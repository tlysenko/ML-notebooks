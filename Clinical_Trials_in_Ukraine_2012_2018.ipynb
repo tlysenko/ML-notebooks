{
  "nbformat": 4,
  "nbformat_minor": 0,
  "metadata": {
    "colab": {
      "provenance": [],
      "authorship_tag": "ABX9TyPUF+nggoxC7E5Csxh9SCzq",
      "include_colab_link": true
    },
    "kernelspec": {
      "name": "python3",
      "display_name": "Python 3"
    },
    "language_info": {
      "name": "python"
    }
  },
  "cells": [
    {
      "cell_type": "markdown",
      "metadata": {
        "id": "view-in-github",
        "colab_type": "text"
      },
      "source": [
        "<a href=\"https://colab.research.google.com/github/tlysenko/ML-notebooks/blob/master/Clinical_Trials_in_Ukraine_2012_2018.ipynb\" target=\"_parent\"><img src=\"https://colab.research.google.com/assets/colab-badge.svg\" alt=\"Open In Colab\"/></a>"
      ]
    },
    {
      "cell_type": "markdown",
      "source": [
        "## The task\n",
        "\n",
        "По ссылке — таблица с данными о клинических исследованиях (КИ), проведенными в Украине с 2002 по 2018. На основе таблицы рассчитайте 3 вида статистических показателей, которые, на ваш взгляд, наиболее точно отражают ситуацию с КИ в Украине, и сделайте выводы. Опишите ход рассуждений и укажите источники, которыми вы руководствовались при выборе показателей. Прикрепите xls с расчетами и формулами. "
      ],
      "metadata": {
        "id": "BgbDQ1i0XSED"
      }
    },
    {
      "cell_type": "markdown",
      "source": [
        "## Installing the libraries"
      ],
      "metadata": {
        "id": "xM8vEZcC2Cob"
      }
    },
    {
      "cell_type": "code",
      "execution_count": 2,
      "metadata": {
        "colab": {
          "base_uri": "https://localhost:8080/"
        },
        "id": "pSuTdmGG18WI",
        "outputId": "971923ea-a345-41c7-85fc-eb8e4eec643d"
      },
      "outputs": [
        {
          "output_type": "stream",
          "name": "stdout",
          "text": [
            "Looking in indexes: https://pypi.org/simple, https://us-python.pkg.dev/colab-wheels/public/simple/\n",
            "Collecting transliterate\n",
            "  Downloading transliterate-1.10.2-py2.py3-none-any.whl (45 kB)\n",
            "\u001b[K     |████████████████████████████████| 45 kB 2.0 MB/s \n",
            "\u001b[?25hRequirement already satisfied: six>=1.1.0 in /usr/local/lib/python3.7/dist-packages (from transliterate) (1.15.0)\n",
            "Installing collected packages: transliterate\n",
            "Successfully installed transliterate-1.10.2\n"
          ]
        }
      ],
      "source": [
        "# Installing the libraries\n",
        "!pip install transliterate"
      ]
    },
    {
      "cell_type": "code",
      "source": [
        "# Importing libraries\n",
        "import pandas as pd\n",
        "import numpy as np\n",
        "\n",
        "import matplotlib.pyplot as plt\n",
        "import seaborn as sns\n",
        "\n",
        "from transliterate import translit"
      ],
      "metadata": {
        "id": "H8WBMkZG2CMs"
      },
      "execution_count": 3,
      "outputs": []
    },
    {
      "cell_type": "markdown",
      "source": [
        "## Helper functions"
      ],
      "metadata": {
        "id": "v1OL3Puq29By"
      }
    },
    {
      "cell_type": "code",
      "source": [
        "# list the regions \n",
        "def translit_ua_to_lat(line):\n",
        "  return translit(line,'ru',reversed=True).replace(\"'\",\"\")\n",
        "\n",
        "def unique_values_from_rows_to_set(df_column):\n",
        "  my_set = set()\n",
        "  for row in df_column:\n",
        "    [my_set.add(x.strip()) for x in row.split('|')]\n",
        "  return my_set"
      ],
      "metadata": {
        "id": "oSkSFAwK28eZ"
      },
      "execution_count": 4,
      "outputs": []
    },
    {
      "cell_type": "markdown",
      "source": [
        "## Reading the spreadsheets"
      ],
      "metadata": {
        "id": "fWfpwm9r3D6H"
      }
    },
    {
      "cell_type": "code",
      "source": [
        "# Connecting to GoogleDrive \n",
        "\n",
        "from google.colab import auth\n",
        "auth.authenticate_user()\n",
        "\n",
        "import gspread\n",
        "from google.auth import default\n",
        "creds, _ = default()\n",
        "\n",
        "gc = gspread.authorize(creds)"
      ],
      "metadata": {
        "id": "opvgsAuO6cK1"
      },
      "execution_count": null,
      "outputs": []
    },
    {
      "cell_type": "code",
      "source": [
        "###\n",
        "### Read the original spreadsheet (copied to my GoogleDrive )\n",
        "### \n",
        "\n",
        "worksheet = gc.open('Ukrainian_clinical_trials').sheet1\n",
        "\n",
        "# get_all_values gives a list of rows.\n",
        "rows = worksheet.get_all_values()\n",
        "\n",
        "# Convert to a DataFrame and render.\n",
        "df1 = pd.DataFrame.from_records(rows)\n",
        "\n",
        "# Set first row as a header\n",
        "df1.columns = df1.iloc[0] \n",
        "df1 = df1[1:]\n",
        "\n",
        "\n",
        "# Transliterate colum names\n",
        "translit_cols = []\n",
        "for col in df1.columns:\n",
        "   df1.rename(columns={col : \n",
        "                      translit_ua_to_lat(col) }, \n",
        "                      inplace=True)  \n",
        "   \n",
        "###\n",
        "### Read the full database of clinical trials copied from https://clinicaltrials.dec.gov.ua and saved locally \n",
        "### \n",
        "\n",
        "worksheet = gc.open('scrapped_db_ci').sheet1\n",
        "\n",
        "# get_all_values gives a list of rows.\n",
        "rows = worksheet.get_all_values()\n",
        "\n",
        "# Convert to a DataFrame and render.\n",
        "df2 = pd.DataFrame.from_records(rows)\n",
        "\n",
        "# Set first row as a header\n",
        "df2.columns = df2.iloc[0] \n",
        "df2 = df2[1:]\n",
        "\n",
        "\n",
        "# Transliterate colum names\n",
        "translit_cols = []\n",
        "for col in df2.columns:\n",
        "   df2.rename(columns={col : \n",
        "                      translit_ua_to_lat(col) }, \n",
        "                      inplace=True)  \n",
        "\n",
        "df2.rename(columns={'Kod KV': 'Kod'}, inplace = True)\n",
        "df2.rename(columns={'Data pochatku KV v Ukraїnі': 'Startdate'}, inplace = True)"
      ],
      "metadata": {
        "id": "NYMpMyOH3aTL"
      },
      "execution_count": 158,
      "outputs": []
    },
    {
      "cell_type": "code",
      "source": [
        "# Merging the dataframes\n",
        "df3 = df1.set_index('Kod').join(df2[['Kod', 'Startdate']].set_index('Kod'))"
      ],
      "metadata": {
        "id": "f2btDmLeLB3M"
      },
      "execution_count": 159,
      "outputs": []
    },
    {
      "cell_type": "markdown",
      "source": [
        "## Data Cleaning"
      ],
      "metadata": {
        "id": "PZwuw0ID_OwC"
      }
    },
    {
      "cell_type": "code",
      "source": [
        "# Remove NA\n",
        "df3['Startdateі']=df3['Startdate'].replace({'':np.NAN})\n",
        "df3.dropna(inplace=True)"
      ],
      "metadata": {
        "id": "Y7cYXj0sOcbz"
      },
      "execution_count": 161,
      "outputs": []
    },
    {
      "cell_type": "code",
      "source": [
        "# Adding Year start of the trial\n",
        "df3['Year'] = [int(x[-4:]) for x in df3['Startdate']]"
      ],
      "metadata": {
        "id": "zrv5-ghCOC37"
      },
      "execution_count": 162,
      "outputs": []
    },
    {
      "cell_type": "code",
      "source": [
        "# Remove NA\n",
        "df3['Startdateі']=df3['Startdate'].replace({'':np.NAN})\n",
        "df3.dropna(inplace=True)\n",
        "\n",
        "df3.drop(df3[df3.Year == 2019].index, inplace=True)"
      ],
      "metadata": {
        "id": "2qKhRGkmMEbI"
      },
      "execution_count": 164,
      "outputs": []
    },
    {
      "cell_type": "code",
      "source": [
        "# % of data lost during the merge and dropna\n",
        "((df1.shape[0]-df3.shape[0])/df1.shape[0])*100"
      ],
      "metadata": {
        "id": "On864S7vOhNX"
      },
      "execution_count": null,
      "outputs": []
    },
    {
      "cell_type": "markdown",
      "source": [
        "## EDA"
      ],
      "metadata": {
        "id": "2VxYgKec7u3s"
      }
    },
    {
      "cell_type": "markdown",
      "source": [
        "### Condition of the trial"
      ],
      "metadata": {
        "id": "Jq7F7SDQ828h"
      }
    },
    {
      "cell_type": "code",
      "source": [
        "sns.set(rc={'figure.figsize':(8,8)})\n",
        "sns.countplot(x=df3['Stan']).set(title = 'Condition of the trial',\n",
        "                                 xlabel = 'Condition of the trial',\n",
        "                                 ylabel = 'Count')\n",
        "\n",
        "plt.xticks(rotation=90)\n",
        "plt.tight_layout();"
      ],
      "metadata": {
        "colab": {
          "base_uri": "https://localhost:8080/",
          "height": 581
        },
        "id": "bHWmt0pT-FeE",
        "outputId": "fe191417-99f1-4cb6-acba-90e3a9568885"
      },
      "execution_count": 37,
      "outputs": [
        {
          "output_type": "display_data",
          "data": {
            "text/plain": [
              "<Figure size 576x576 with 1 Axes>"
            ],
            "image/png": "[encoded data removed]"
          },
          "metadata": {}
        }
      ]
    },
    {
      "cell_type": "code",
      "source": [
        "np.round(df3['Stan'].value_counts(normalize=True, ascending=False, sort = True)*100)"
      ],
      "metadata": {
        "colab": {
          "base_uri": "https://localhost:8080/"
        },
        "id": "c7LLtwtT7ugo",
        "outputId": "ea53e27e-8fdf-4f82-8e20-26b35020e895"
      },
      "execution_count": 16,
      "outputs": [
        {
          "output_type": "execute_result",
          "data": {
            "text/plain": [
              "Завершено КВ в Україні     71.0\n",
              "Розпочато КВ в Україні     21.0\n",
              "Затверджено наказом МОЗ     5.0\n",
              "Знято з розгляду            3.0\n",
              "Name: Stan, dtype: float64"
            ]
          },
          "metadata": {},
          "execution_count": 16
        }
      ]
    },
    {
      "cell_type": "code",
      "source": [
        "df3['Stan'].value_counts(normalize=False)"
      ],
      "metadata": {
        "colab": {
          "base_uri": "https://localhost:8080/"
        },
        "id": "Z_TtXVOJ8hqV",
        "outputId": "7272470f-e48b-49bc-a401-e4b6b3d8af99"
      },
      "execution_count": 18,
      "outputs": [
        {
          "output_type": "execute_result",
          "data": {
            "text/plain": [
              "Завершено КВ в Україні     1638\n",
              "Розпочато КВ в Україні      493\n",
              "Затверджено наказом МОЗ     110\n",
              "Знято з розгляду             70\n",
              "Name: Stan, dtype: int64"
            ]
          },
          "metadata": {},
          "execution_count": 18
        }
      ]
    },
    {
      "cell_type": "markdown",
      "source": [
        "**The main question is why most of the trials are over ?** \n"
      ],
      "metadata": {
        "id": "IbH27ZMW-uJd"
      }
    },
    {
      "cell_type": "markdown",
      "source": [
        "### Phase of the trial"
      ],
      "metadata": {
        "id": "25MRyPSL8z_P"
      }
    },
    {
      "cell_type": "code",
      "source": [
        "# We can see that the data or phases are rather noisy\n",
        "df3['Fazi'].value_counts(normalize=True)*100"
      ],
      "metadata": {
        "colab": {
          "base_uri": "https://localhost:8080/"
        },
        "id": "T1m9VO3o3iGP",
        "outputId": "583b10e4-cc20-4cd7-8233-d4be646614d1"
      },
      "execution_count": 23,
      "outputs": [
        {
          "output_type": "execute_result",
          "data": {
            "text/plain": [
              "3             56.815232\n",
              "2             22.457810\n",
              "Інша          10.817828\n",
              "1              3.072263\n",
              "4              2.942449\n",
              "2, 3           1.860666\n",
              "1, 2           0.692341\n",
              "3, 4           0.346170\n",
              "Інша, 1        0.302899\n",
              "Інша, 3        0.216357\n",
              "Інша, 1, 2     0.129814\n",
              "1, 3           0.086543\n",
              "Інша, 2        0.086543\n",
              "Інша, 1, 3     0.086543\n",
              "Інша, 4        0.043271\n",
              "2, 4           0.043271\n",
              "Name: Fazi, dtype: float64"
            ]
          },
          "metadata": {},
          "execution_count": 23
        }
      ]
    },
    {
      "cell_type": "code",
      "source": [
        "sns.set(rc={'figure.figsize':(8,5)})\n",
        "sns.countplot(x = df3['Fazi'][df3['Fazi'].isin(['1','2','3','4'])]).set(title='Amount of trials per phase',\n",
        "                                                                        xlabel='Phase of the trial',\n",
        "                                                                        ylabel ='Count');"
      ],
      "metadata": {
        "colab": {
          "base_uri": "https://localhost:8080/",
          "height": 355
        },
        "id": "LHEedqi187CL",
        "outputId": "38be3aa9-eedd-40ba-b745-232a87482fe3"
      },
      "execution_count": 32,
      "outputs": [
        {
          "output_type": "display_data",
          "data": {
            "text/plain": [
              "<Figure size 576x360 with 1 Axes>"
            ],
            "image/png": "[encoded data removed]"
          },
          "metadata": {}
        }
      ]
    },
    {
      "cell_type": "code",
      "source": [
        "sns.set(rc={'figure.figsize':(18,5)})\n",
        "df4 = pd.DataFrame(df3['Year'].value_counts(ascending=False))\n",
        "sns.lineplot(data = df4, x=df4.index, y='Year').set(title='Amount of trials started per year',\n",
        "                                                    xlabel = 'Startdate of the trial',\n",
        "                                                    ylabel = 'Amount of trials per year');"
      ],
      "metadata": {
        "colab": {
          "base_uri": "https://localhost:8080/",
          "height": 355
        },
        "id": "4H9REdeaJu4h",
        "outputId": "dd7b3eb6-928b-4a3b-a665-f2f6bbb6c4f4"
      },
      "execution_count": 183,
      "outputs": [
        {
          "output_type": "display_data",
          "data": {
            "text/plain": [
              "<Figure size 1296x360 with 1 Axes>"
            ],
            "image/png": "[encoded data removed]"
          },
          "metadata": {}
        }
      ]
    },
    {
      "cell_type": "markdown",
      "source": [
        "## Analytical summary "
      ],
      "metadata": {
        "id": "rGzdyUBm8Vuy"
      }
    },
    {
      "cell_type": "code",
      "source": [
        "\"Общее количество КИ в период с 2002 по 2018 составляет {} исследований. Самая большая доля клинических исследований выпадает на категорию \\\"{}\\\" и \\\n",
        "составляет {}% и {} исследований. Значительная доля всех исследований ({} процент) исследований находится в состоянии \\\"{}\\\", что вызывает больше всего вопросов. \\\n",
        "Судя по динамике мы видим, что количество новых КИ росло до 2014 года и пошло на спад после 2014 года. Можно сделать вывод, что начало военных действией \\\n",
        "в Крыму и на Донбассе повлияли на снижение количества новых в КИ в Украине. Эта же ситуация повторяется в 2022 году с началом полномасштабной войны в Украине.\".format(\n",
        "    \n",
        "    # Total amount \n",
        "    df1['Kod'].nunique(),\n",
        "    # Max category \n",
        "    df3['Medichnij naprjam'].value_counts(normalize=True, ascending=False, sort = True).index[0],\n",
        "    np.round(df3['Medichnij naprjam'].value_counts(normalize=True, ascending=False, sort = True)[0]*100),\n",
        "    df3['Medichnij naprjam'].value_counts(normalize=False).max(),\n",
        "    \n",
        "    # Max status\n",
        "    np.round(df3['Stan'].value_counts(normalize=True, ascending=False, sort = True)[0]*100),\n",
        "    df3['Stan'].value_counts(normalize=True, ascending=False, sort = True).index[0]\n",
        "    \n",
        "    )"
      ],
      "metadata": {
        "colab": {
          "base_uri": "https://localhost:8080/",
          "height": 107
        },
        "id": "apQktA138W-n",
        "outputId": "1362faf8-4d0d-466a-b44c-ade3d31aad78"
      },
      "execution_count": 190,
      "outputs": [
        {
          "output_type": "execute_result",
          "data": {
            "text/plain": [
              "'Общее количество КИ в период с 2002 по 2018 составляет 2308 исследований. Самая большая доля клинических исследований выпадает на категорию \"Онкологія\" и составляет 15.0% и 255 исследований. Значительная доля всех исследований (78.0 процент) исследований находится в состоянии \"Завершено КВ в Україні\", что вызывает больше всего вопросов. Судя по динамике мы видим, что количество новых КИ росло до 2014 года и пошло на спад после 2014 года. Можно сделать вывод, что начало военных действией в Крыму и на Донбассе повлияли на снижение количества новых в КИ в Украине. Эта же ситуация повторяется в 2022 году с началом полномасштабной войны в Украине.'"
            ],
            "application/vnd.google.colaboratory.intrinsic+json": {
              "type": "string"
            }
          },
          "metadata": {},
          "execution_count": 190
        }
      ]
    },
    {
      "cell_type": "code",
      "source": [],
      "metadata": {
        "id": "FK3Cd61oXaph"
      },
      "execution_count": null,
      "outputs": []
    }
  ]
}