{
  "nbformat": 4,
  "nbformat_minor": 0,
  "metadata": {
    "colab": {
      "name": "Antibioitic-resistance-kaggle.ipynb",
      "provenance": [],
      "mount_file_id": "1-4kwrr2GMtgykkbyEoONLy8b8creg1nI",
      "authorship_tag": "ABX9TyOMt6z6dfuF61/0FoShT++F",
      "include_colab_link": true
    },
    "kernelspec": {
      "name": "python3",
      "display_name": "Python 3"
    },
    "language_info": {
      "name": "python"
    }
  },
  "cells": [
    {
      "cell_type": "markdown",
      "metadata": {
        "id": "view-in-github",
        "colab_type": "text"
      },
      "source": [
        "<a href=\"https://colab.research.google.com/github/tlysenko/ML-notebooks/blob/master/Antibioitic_resistance_kaggle.ipynb\" target=\"_parent\"><img src=\"https://colab.research.google.com/assets/colab-badge.svg\" alt=\"Open In Colab\"/></a>"
      ]
    },
    {
      "cell_type": "markdown",
      "metadata": {
        "id": "Jv3PhAQEFZku"
      },
      "source": [
        "## Dataset\n",
        "\n",
        "100k samples of bacterial genomic sequence and resistance to antibiotic\n",
        "\n",
        "https://www.kaggle.com/drscarlat/dzd-data"
      ]
    },
    {
      "cell_type": "markdown",
      "metadata": {
        "id": "72sQpIL07bcJ"
      },
      "source": [
        "## Importing libraries"
      ]
    },
    {
      "cell_type": "code",
      "metadata": {
        "id": "jeeIENks7hUD"
      },
      "source": [
        "import numpy as np\n",
        "import pandas as pd\n",
        "\n",
        "import matplotlib.pyplot as plt\n",
        "import seaborn as sns\n",
        "\n",
        "from sklearn.model_selection import train_test_split"
      ],
      "execution_count": 5,
      "outputs": []
    },
    {
      "cell_type": "markdown",
      "metadata": {
        "id": "j6EBa4c5B9_L"
      },
      "source": [
        "## Data"
      ]
    },
    {
      "cell_type": "code",
      "metadata": {
        "id": "nutGnJnrBtoB"
      },
      "source": [
        "data_path = '/content/drive/MyDrive/ColabNotebooks/Antibiotics-resistance/data/dataset.npy'\n",
        "raw_data = np.load(data_path, allow_pickle=True)"
      ],
      "execution_count": 6,
      "outputs": []
    },
    {
      "cell_type": "code",
      "metadata": {
        "colab": {
          "base_uri": "https://localhost:8080/"
        },
        "id": "8q7XymJ2Bwdx",
        "outputId": "5097a1a9-6f72-48b9-fb48-feeaa02ccf80"
      },
      "source": [
        "print('data type:', type(raw_data))\n",
        "print('data dim:', raw_data.ndim)"
      ],
      "execution_count": 7,
      "outputs": [
        {
          "output_type": "stream",
          "text": [
            "data type: <class 'numpy.ndarray'>\n",
            "data dim: 0\n"
          ],
          "name": "stdout"
        }
      ]
    },
    {
      "cell_type": "code",
      "metadata": {
        "colab": {
          "base_uri": "https://localhost:8080/"
        },
        "id": "bw3H-U8NB4x8",
        "outputId": "d720c166-2b7f-48fd-edd3-e5576f33ae91"
      },
      "source": [
        "raw_data"
      ],
      "execution_count": 8,
      "outputs": [
        {
          "output_type": "execute_result",
          "data": {
            "text/plain": [
              "array({'resistant': array([False, False, False, ...,  True,  True, False]), 'genes': array(['ATGCACTACCGTATGATCCCCCTTCACTGGATGATGGAAATTGACTGCAATGGCTGCGCTAATAATACTTTGTCTCGTCGTTGGAATTACGACTTCTGGCACAAACACGTTGAACAGGTTAAATGCTACCGTCACAATATTCGTGACCAGACTTGA',\n",
              "       'ATGCACTACCGTATGATTCACTGGATGATGGAAATTGACTGCAATGGCTGCGCTAATAATACTTTGTCTCGTCGTTGGAATTACGACTTCTGGCACAAACCCGTTGAACAGGTTAAATGCTACCGTCACAATATTCGTGACCAGACTTGA',\n",
              "       'ATGCACTACCGTATGATTCACTGGATCGTGATGGAAATTGACTGCAATGGCTGCGCTAATAATACTTTGTCTCGTCGTTGGAATTACGACTTCTGGCACAAACACGTTGAACAGGTTAAATGCTACCGTCACAATATTCGTGACCAGACTTGA',\n",
              "       ...,\n",
              "       'ATGCACTACCGTATGATTCACTGGATGATGGAAACTGCAATGGCTGCGCTAATAATACTTTGTCTCGTCGTTGGAATTACGACTTCTGGCACAAACACGTTGAACAGGTTAAATGCTACCGTCACAATATTCGTGACCAGACTTGA',\n",
              "       'ATGCACTACCGTATGATTCACTGGATGATGGAAATTGACTTGCAATGGCTGCGCTAATAATACTTTGTCTCGTCGTTGGAATTACGACTTCTGGCACAAACACGTTGAACAGGTTAAATGCTACCGTCACAATATTCGTGACCAGACTTGA',\n",
              "       'ATGCACTACCGTATGATTCACTGGATGATGGAAATTGACTGCAATGGCTGCGCTAATAATACTTTGTCTCGTCGTTGGAATTACGACTTCTGGCACAAACACGTTGAACAGGTTAAATGCTACCGTCACAATATTCGTGACCAGACTTGA'],\n",
              "      dtype=object)}, dtype=object)"
            ]
          },
          "metadata": {
            "tags": []
          },
          "execution_count": 8
        }
      ]
    },
    {
      "cell_type": "code",
      "metadata": {
        "id": "ifl823Z0CCEN"
      },
      "source": [
        "data_dict = raw_data[()]"
      ],
      "execution_count": 9,
      "outputs": []
    },
    {
      "cell_type": "code",
      "metadata": {
        "colab": {
          "base_uri": "https://localhost:8080/"
        },
        "id": "xNfnZPDoCvOH",
        "outputId": "54d79d06-0c22-4775-deba-6ab49950078c"
      },
      "source": [
        "data_dict"
      ],
      "execution_count": 10,
      "outputs": [
        {
          "output_type": "execute_result",
          "data": {
            "text/plain": [
              "{'genes': array(['ATGCACTACCGTATGATCCCCCTTCACTGGATGATGGAAATTGACTGCAATGGCTGCGCTAATAATACTTTGTCTCGTCGTTGGAATTACGACTTCTGGCACAAACACGTTGAACAGGTTAAATGCTACCGTCACAATATTCGTGACCAGACTTGA',\n",
              "        'ATGCACTACCGTATGATTCACTGGATGATGGAAATTGACTGCAATGGCTGCGCTAATAATACTTTGTCTCGTCGTTGGAATTACGACTTCTGGCACAAACCCGTTGAACAGGTTAAATGCTACCGTCACAATATTCGTGACCAGACTTGA',\n",
              "        'ATGCACTACCGTATGATTCACTGGATCGTGATGGAAATTGACTGCAATGGCTGCGCTAATAATACTTTGTCTCGTCGTTGGAATTACGACTTCTGGCACAAACACGTTGAACAGGTTAAATGCTACCGTCACAATATTCGTGACCAGACTTGA',\n",
              "        ...,\n",
              "        'ATGCACTACCGTATGATTCACTGGATGATGGAAACTGCAATGGCTGCGCTAATAATACTTTGTCTCGTCGTTGGAATTACGACTTCTGGCACAAACACGTTGAACAGGTTAAATGCTACCGTCACAATATTCGTGACCAGACTTGA',\n",
              "        'ATGCACTACCGTATGATTCACTGGATGATGGAAATTGACTTGCAATGGCTGCGCTAATAATACTTTGTCTCGTCGTTGGAATTACGACTTCTGGCACAAACACGTTGAACAGGTTAAATGCTACCGTCACAATATTCGTGACCAGACTTGA',\n",
              "        'ATGCACTACCGTATGATTCACTGGATGATGGAAATTGACTGCAATGGCTGCGCTAATAATACTTTGTCTCGTCGTTGGAATTACGACTTCTGGCACAAACACGTTGAACAGGTTAAATGCTACCGTCACAATATTCGTGACCAGACTTGA'],\n",
              "       dtype=object),\n",
              " 'resistant': array([False, False, False, ...,  True,  True, False])}"
            ]
          },
          "metadata": {
            "tags": []
          },
          "execution_count": 10
        }
      ]
    },
    {
      "cell_type": "code",
      "metadata": {
        "colab": {
          "base_uri": "https://localhost:8080/",
          "height": 204
        },
        "id": "i1a1Qa5lDTTU",
        "outputId": "80e9ce00-4d39-4c48-86b5-7dd193921388"
      },
      "source": [
        "df = pd.DataFrame.from_dict(data_dict)\n",
        "df.head()"
      ],
      "execution_count": 11,
      "outputs": [
        {
          "output_type": "execute_result",
          "data": {
            "text/html": [
              "<div>\n",
              "<style scoped>\n",
              "    .dataframe tbody tr th:only-of-type {\n",
              "        vertical-align: middle;\n",
              "    }\n",
              "\n",
              "    .dataframe tbody tr th {\n",
              "        vertical-align: top;\n",
              "    }\n",
              "\n",
              "    .dataframe thead th {\n",
              "        text-align: right;\n",
              "    }\n",
              "</style>\n",
              "<table border=\"1\" class=\"dataframe\">\n",
              "  <thead>\n",
              "    <tr style=\"text-align: right;\">\n",
              "      <th></th>\n",
              "      <th>resistant</th>\n",
              "      <th>genes</th>\n",
              "    </tr>\n",
              "  </thead>\n",
              "  <tbody>\n",
              "    <tr>\n",
              "      <th>0</th>\n",
              "      <td>False</td>\n",
              "      <td>ATGCACTACCGTATGATCCCCCTTCACTGGATGATGGAAATTGACT...</td>\n",
              "    </tr>\n",
              "    <tr>\n",
              "      <th>1</th>\n",
              "      <td>False</td>\n",
              "      <td>ATGCACTACCGTATGATTCACTGGATGATGGAAATTGACTGCAATG...</td>\n",
              "    </tr>\n",
              "    <tr>\n",
              "      <th>2</th>\n",
              "      <td>False</td>\n",
              "      <td>ATGCACTACCGTATGATTCACTGGATCGTGATGGAAATTGACTGCA...</td>\n",
              "    </tr>\n",
              "    <tr>\n",
              "      <th>3</th>\n",
              "      <td>False</td>\n",
              "      <td>ATGCACTACCGTATGATTCACTGGGTGATGGAAATTGACTGCAATG...</td>\n",
              "    </tr>\n",
              "    <tr>\n",
              "      <th>4</th>\n",
              "      <td>False</td>\n",
              "      <td>ATGCACGACCGTATCATTCACTGGATGATGGAAATTGACTGCAATG...</td>\n",
              "    </tr>\n",
              "  </tbody>\n",
              "</table>\n",
              "</div>"
            ],
            "text/plain": [
              "   resistant                                              genes\n",
              "0      False  ATGCACTACCGTATGATCCCCCTTCACTGGATGATGGAAATTGACT...\n",
              "1      False  ATGCACTACCGTATGATTCACTGGATGATGGAAATTGACTGCAATG...\n",
              "2      False  ATGCACTACCGTATGATTCACTGGATCGTGATGGAAATTGACTGCA...\n",
              "3      False  ATGCACTACCGTATGATTCACTGGGTGATGGAAATTGACTGCAATG...\n",
              "4      False  ATGCACGACCGTATCATTCACTGGATGATGGAAATTGACTGCAATG..."
            ]
          },
          "metadata": {
            "tags": []
          },
          "execution_count": 11
        }
      ]
    },
    {
      "cell_type": "code",
      "metadata": {
        "colab": {
          "base_uri": "https://localhost:8080/"
        },
        "id": "lhi6xLoBDf3o",
        "outputId": "24b9c671-6d94-493e-b02e-3b08f3dfac3a"
      },
      "source": [
        "df.info()"
      ],
      "execution_count": 12,
      "outputs": [
        {
          "output_type": "stream",
          "text": [
            "<class 'pandas.core.frame.DataFrame'>\n",
            "RangeIndex: 100000 entries, 0 to 99999\n",
            "Data columns (total 2 columns):\n",
            " #   Column     Non-Null Count   Dtype \n",
            "---  ------     --------------   ----- \n",
            " 0   resistant  100000 non-null  bool  \n",
            " 1   genes      100000 non-null  object\n",
            "dtypes: bool(1), object(1)\n",
            "memory usage: 879.0+ KB\n"
          ],
          "name": "stdout"
        }
      ]
    },
    {
      "cell_type": "code",
      "metadata": {
        "colab": {
          "base_uri": "https://localhost:8080/"
        },
        "id": "l7FPIxoWDr0a",
        "outputId": "1828b8a5-dc26-483b-d58f-c8ba2792ec23"
      },
      "source": [
        "# No missing values\n",
        "np.sum(df.isna())"
      ],
      "execution_count": 13,
      "outputs": [
        {
          "output_type": "execute_result",
          "data": {
            "text/plain": [
              "resistant    0\n",
              "genes        0\n",
              "dtype: int64"
            ]
          },
          "metadata": {
            "tags": []
          },
          "execution_count": 13
        }
      ]
    },
    {
      "cell_type": "code",
      "metadata": {
        "colab": {
          "base_uri": "https://localhost:8080/",
          "height": 295
        },
        "id": "mOGZwdDNDw1V",
        "outputId": "b34f9f72-5e67-4804-8db2-2ec3d4bdff40"
      },
      "source": [
        "# Target variable is well balanced\n",
        "ax = sns.countplot(x = df.resistant);\n",
        "ax.set_title('Target variable countplot');\n"
      ],
      "execution_count": 14,
      "outputs": [
        {
          "output_type": "display_data",
          "data": {
            "image/png": "[encoded data removed]",
            "text/plain": [
              "<Figure size 432x288 with 1 Axes>"
            ]
          },
          "metadata": {
            "tags": [],
            "needs_background": "light"
          }
        }
      ]
    },
    {
      "cell_type": "code",
      "metadata": {
        "colab": {
          "base_uri": "https://localhost:8080/",
          "height": 369
        },
        "id": "GfJdCy3REZU-",
        "outputId": "c6cd6bca-6225-4397-b46e-999fd1c79646"
      },
      "source": [
        "len_array = [len(seq) for seq in df.genes]\n",
        "sns.displot(len_array);"
      ],
      "execution_count": 15,
      "outputs": [
        {
          "output_type": "display_data",
          "data": {
            "image/png": "[encoded data removed]",
            "text/plain": [
              "<Figure size 360x360 with 1 Axes>"
            ]
          },
          "metadata": {
            "tags": [],
            "needs_background": "light"
          }
        }
      ]
    },
    {
      "cell_type": "markdown",
      "metadata": {
        "id": "8OTNxIasHMhw"
      },
      "source": [
        "## Gene seqs to kmers seqs"
      ]
    },
    {
      "cell_type": "code",
      "metadata": {
        "id": "7ZgaupgcHL4t"
      },
      "source": [
        "def GetKmers(k, gene):\n",
        "  ost = len(gene) % k \n",
        "  l = len(gene) - ost - k + 1\n",
        "  return [gene[i:i+k] for i in range(l)]"
      ],
      "execution_count": 21,
      "outputs": []
    },
    {
      "cell_type": "code",
      "metadata": {
        "id": "ik41KcD2PSOh"
      },
      "source": [
        "# generating 5-mers\n",
        "df['k5'] = df.apply(lambda x: GetKmers(k=5, gene=x.genes), axis = 1)"
      ],
      "execution_count": 26,
      "outputs": []
    },
    {
      "cell_type": "code",
      "metadata": {
        "colab": {
          "base_uri": "https://localhost:8080/",
          "height": 265
        },
        "id": "6lk4mx4aNmmp",
        "outputId": "76565710-1652-4774-8553-84330b733c42"
      },
      "source": [
        "len_ = [len(seq) for seq in df.k5]\n",
        "sns.countplot(x = len_);"
      ],
      "execution_count": 23,
      "outputs": [
        {
          "output_type": "display_data",
          "data": {
            "image/png": "[encoded data removed]",
            "text/plain": [
              "<Figure size 432x288 with 1 Axes>"
            ]
          },
          "metadata": {
            "tags": [],
            "needs_background": "light"
          }
        }
      ]
    },
    {
      "cell_type": "markdown",
      "metadata": {
        "id": "rZ7XRIwm_XqX"
      },
      "source": [
        "## Train-Test-Split"
      ]
    },
    {
      "cell_type": "code",
      "metadata": {
        "colab": {
          "base_uri": "https://localhost:8080/",
          "height": 289
        },
        "id": "YbOXe2LW_ru1",
        "outputId": "65553d93-db2f-4464-dee8-3ca7efab582c"
      },
      "source": [
        "df.head()"
      ],
      "execution_count": 43,
      "outputs": [
        {
          "output_type": "execute_result",
          "data": {
            "text/html": [
              "<div>\n",
              "<style scoped>\n",
              "    .dataframe tbody tr th:only-of-type {\n",
              "        vertical-align: middle;\n",
              "    }\n",
              "\n",
              "    .dataframe tbody tr th {\n",
              "        vertical-align: top;\n",
              "    }\n",
              "\n",
              "    .dataframe thead th {\n",
              "        text-align: right;\n",
              "    }\n",
              "</style>\n",
              "<table border=\"1\" class=\"dataframe\">\n",
              "  <thead>\n",
              "    <tr style=\"text-align: right;\">\n",
              "      <th></th>\n",
              "      <th>resistant</th>\n",
              "      <th>genes</th>\n",
              "      <th>k5</th>\n",
              "    </tr>\n",
              "  </thead>\n",
              "  <tbody>\n",
              "    <tr>\n",
              "      <th>0</th>\n",
              "      <td>False</td>\n",
              "      <td>ATGCACTACCGTATGATCCCCCTTCACTGGATGATGGAAATTGACT...</td>\n",
              "      <td>[ATGCA, TGCAC, GCACT, CACTA, ACTAC, CTACC, TAC...</td>\n",
              "    </tr>\n",
              "    <tr>\n",
              "      <th>1</th>\n",
              "      <td>False</td>\n",
              "      <td>ATGCACTACCGTATGATTCACTGGATGATGGAAATTGACTGCAATG...</td>\n",
              "      <td>[ATGCA, TGCAC, GCACT, CACTA, ACTAC, CTACC, TAC...</td>\n",
              "    </tr>\n",
              "    <tr>\n",
              "      <th>2</th>\n",
              "      <td>False</td>\n",
              "      <td>ATGCACTACCGTATGATTCACTGGATCGTGATGGAAATTGACTGCA...</td>\n",
              "      <td>[ATGCA, TGCAC, GCACT, CACTA, ACTAC, CTACC, TAC...</td>\n",
              "    </tr>\n",
              "    <tr>\n",
              "      <th>3</th>\n",
              "      <td>False</td>\n",
              "      <td>ATGCACTACCGTATGATTCACTGGGTGATGGAAATTGACTGCAATG...</td>\n",
              "      <td>[ATGCA, TGCAC, GCACT, CACTA, ACTAC, CTACC, TAC...</td>\n",
              "    </tr>\n",
              "    <tr>\n",
              "      <th>4</th>\n",
              "      <td>False</td>\n",
              "      <td>ATGCACGACCGTATCATTCACTGGATGATGGAAATTGACTGCAATG...</td>\n",
              "      <td>[ATGCA, TGCAC, GCACG, CACGA, ACGAC, CGACC, GAC...</td>\n",
              "    </tr>\n",
              "  </tbody>\n",
              "</table>\n",
              "</div>"
            ],
            "text/plain": [
              "   resistant  ...                                                 k5\n",
              "0      False  ...  [ATGCA, TGCAC, GCACT, CACTA, ACTAC, CTACC, TAC...\n",
              "1      False  ...  [ATGCA, TGCAC, GCACT, CACTA, ACTAC, CTACC, TAC...\n",
              "2      False  ...  [ATGCA, TGCAC, GCACT, CACTA, ACTAC, CTACC, TAC...\n",
              "3      False  ...  [ATGCA, TGCAC, GCACT, CACTA, ACTAC, CTACC, TAC...\n",
              "4      False  ...  [ATGCA, TGCAC, GCACG, CACGA, ACGAC, CGACC, GAC...\n",
              "\n",
              "[5 rows x 3 columns]"
            ]
          },
          "metadata": {
            "tags": []
          },
          "execution_count": 43
        }
      ]
    },
    {
      "cell_type": "code",
      "metadata": {
        "id": "RlBXpjT-_tdz"
      },
      "source": [
        "y = df.resistant\n",
        "X = df.k5"
      ],
      "execution_count": 44,
      "outputs": []
    },
    {
      "cell_type": "code",
      "metadata": {
        "id": "7k68UUb0_YCx"
      },
      "source": [
        " X_train, X_test, y_train, y_test = train_test_split(\n",
        "                                   X, y, test_size=0.20, shuffle=True, random_state=42)"
      ],
      "execution_count": 45,
      "outputs": []
    },
    {
      "cell_type": "code",
      "metadata": {
        "colab": {
          "base_uri": "https://localhost:8080/"
        },
        "id": "rWph4FoR_hSJ",
        "outputId": "bdaf968a-07d3-48b3-cd86-4eb229f8ec3e"
      },
      "source": [
        "print(X_train.shape, y_train.shape)\n",
        "print(X_test.shape, y_test.shape)"
      ],
      "execution_count": 46,
      "outputs": [
        {
          "output_type": "stream",
          "text": [
            "(80000,) (80000,)\n",
            "(20000,) (20000,)\n"
          ],
          "name": "stdout"
        }
      ]
    },
    {
      "cell_type": "markdown",
      "metadata": {
        "id": "RRAZLO_XNSLf"
      },
      "source": [
        "## Tensroflow data preprocessing"
      ]
    },
    {
      "cell_type": "code",
      "metadata": {
        "id": "D89Z5AvGKlJH"
      },
      "source": [
        "import tensorflow as tf\n",
        "from tensorflow import keras\n",
        "from tensorflow.keras import layers\n",
        "\n",
        "from tensorflow.keras.layers.experimental.preprocessing import TextVectorization"
      ],
      "execution_count": 82,
      "outputs": []
    },
    {
      "cell_type": "code",
      "metadata": {
        "colab": {
          "base_uri": "https://localhost:8080/"
        },
        "id": "DwKy-9CZ-J3c",
        "outputId": "1a1704e5-02f1-4e6c-da9d-e11b30eb3190"
      },
      "source": [
        "# Identify vocabulary size \n",
        "\n",
        "vocab = set()\n",
        "for row in df.k5:\n",
        "  row_s = set(row)\n",
        "  vocab.update(row_s)\n",
        "print('vocab size: ',len(vocab))"
      ],
      "execution_count": 38,
      "outputs": [
        {
          "output_type": "stream",
          "text": [
            "vocab size:  1024\n"
          ],
          "name": "stdout"
        }
      ]
    },
    {
      "cell_type": "code",
      "metadata": {
        "colab": {
          "base_uri": "https://localhost:8080/"
        },
        "id": "db32YhdI-m80",
        "outputId": "edbf21fe-fa69-47f1-e412-1befbb5238ca"
      },
      "source": [
        "# identify total amount of \"words\" in the data\n",
        "\n",
        "words_count = 0\n",
        "for row in df.k5:\n",
        "  words_count += len(row)\n",
        "print('words count:', words_count)"
      ],
      "execution_count": 39,
      "outputs": [
        {
          "output_type": "stream",
          "text": [
            "words count: 14489390\n"
          ],
          "name": "stdout"
        }
      ]
    },
    {
      "cell_type": "code",
      "metadata": {
        "id": "8r_vGis-NT67"
      },
      "source": [
        "MAX_SEQUENCE_LENGTH = 136\n",
        "VOCAB_SIZE = len(vocab)\n",
        "\n",
        "int_vectorize_layer = TextVectorization(\n",
        "    max_tokens=VOCAB_SIZE,\n",
        "    output_mode='int',\n",
        "    output_sequence_length=MAX_SEQUENCE_LENGTH)\n",
        "\n",
        "def int_vectorize_text(text, label):\n",
        "  text = tf.expand_dims(text, -1)\n",
        "  return int_vectorize_layer(text), label"
      ],
      "execution_count": 91,
      "outputs": []
    },
    {
      "cell_type": "code",
      "metadata": {
        "id": "8qfCkb6X_HjD"
      },
      "source": [
        "train_all = np.array(pd.DataFrame(data = [X_train, y_train.astype(int)]).transpose())\n",
        "text_batch, label_batch = next(iter(train_all))\n",
        "#first_question, first_label = text_batch[0], label_batch[0]"
      ],
      "execution_count": 88,
      "outputs": []
    },
    {
      "cell_type": "code",
      "metadata": {
        "colab": {
          "base_uri": "https://localhost:8080/"
        },
        "id": "UrgXy6EnF5kh",
        "outputId": "385d5652-844b-4502-b3d4-9cc305a9a116"
      },
      "source": [
        "print(\"'int' vectorized question:\",\n",
        "      int_vectorize_text(text_batch, first_label)[0])"
      ],
      "execution_count": 92,
      "outputs": [
        {
          "output_type": "stream",
          "text": [
            "'int' vectorized question: tf.Tensor(\n",
            "[[1 0 0 ... 0 0 0]\n",
            " [1 0 0 ... 0 0 0]\n",
            " [1 0 0 ... 0 0 0]\n",
            " ...\n",
            " [1 0 0 ... 0 0 0]\n",
            " [1 0 0 ... 0 0 0]\n",
            " [1 0 0 ... 0 0 0]], shape=(151, 136), dtype=int64)\n"
          ],
          "name": "stdout"
        }
      ]
    }
  ]
}