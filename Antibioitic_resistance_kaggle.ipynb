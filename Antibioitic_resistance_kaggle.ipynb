{
  "nbformat": 4,
  "nbformat_minor": 0,
  "metadata": {
    "colab": {
      "name": "Antibioitic-resistance-kaggle.ipynb",
      "provenance": [],
      "collapsed_sections": [
        "72sQpIL07bcJ",
        "5B-mZ5nD9R7a",
        "bRAogCNKuM15"
      ],
      "toc_visible": true,
      "machine_shape": "hm",
      "mount_file_id": "1-4kwrr2GMtgykkbyEoONLy8b8creg1nI",
      "authorship_tag": "ABX9TyO10vOaz0G050mvAosEwqOX",
      "include_colab_link": true
    },
    "kernelspec": {
      "display_name": "Python 3",
      "name": "python3"
    },
    "language_info": {
      "name": "python"
    }
  },
  "cells": [
    {
      "cell_type": "markdown",
      "metadata": {
        "id": "view-in-github",
        "colab_type": "text"
      },
      "source": [
        "<a href=\"https://colab.research.google.com/github/tlysenko/ML-notebooks/blob/master/Antibioitic_resistance_kaggle.ipynb\" target=\"_parent\"><img src=\"https://colab.research.google.com/assets/colab-badge.svg\" alt=\"Open In Colab\"/></a>"
      ]
    },
    {
      "cell_type": "markdown",
      "metadata": {
        "id": "Jv3PhAQEFZku"
      },
      "source": [
        "## Dataset\n",
        "\n",
        "100k samples of bacterial genomic sequence and resistance to antibiotic\n",
        "\n",
        "https://www.kaggle.com/drscarlat/dzd-data"
      ]
    },
    {
      "cell_type": "markdown",
      "metadata": {
        "id": "72sQpIL07bcJ"
      },
      "source": [
        "## Importing libraries"
      ]
    },
    {
      "cell_type": "code",
      "metadata": {
        "id": "jeeIENks7hUD"
      },
      "source": [
        "import numpy as np\n",
        "import pandas as pd\n",
        "\n",
        "import matplotlib.pyplot as plt\n",
        "import seaborn as sns\n",
        "\n",
        "from sklearn.feature_extraction.text import CountVectorizer\n",
        "from sklearn.model_selection import train_test_split\n",
        "from sklearn.naive_bayes import MultinomialNB\n",
        "\n",
        "\n",
        "\n",
        "import tensorflow as tf\n",
        "from tensorflow import keras\n",
        "from tensorflow.keras import layers\n",
        "from tensorflow.keras.layers.experimental.preprocessing import TextVectorization\n",
        "\n",
        "import os\n",
        "import tensorboard\n",
        "import datetime\n",
        "\n",
        "from sklearn.metrics import accuracy_score, confusion_matrix\n",
        "\n",
        "%load_ext tensorboard\n"
      ],
      "execution_count": 2,
      "outputs": []
    },
    {
      "cell_type": "markdown",
      "metadata": {
        "id": "j6EBa4c5B9_L"
      },
      "source": [
        "## EDA"
      ]
    },
    {
      "cell_type": "code",
      "metadata": {
        "id": "nutGnJnrBtoB"
      },
      "source": [
        "data_path = '/content/drive/MyDrive/ColabNotebooks/Antibiotics-resistance/data/dataset.npy'\n",
        "raw_data = np.load(data_path, allow_pickle=True)"
      ],
      "execution_count": null,
      "outputs": []
    },
    {
      "cell_type": "code",
      "metadata": {
        "colab": {
          "base_uri": "https://localhost:8080/"
        },
        "id": "8q7XymJ2Bwdx",
        "outputId": "0e12e87f-6d6a-4b49-8010-c6ed4bcb2d73"
      },
      "source": [
        "print('data type:', type(raw_data))\n",
        "print('data dim:', raw_data.ndim)"
      ],
      "execution_count": null,
      "outputs": [
        {
          "output_type": "stream",
          "text": [
            "data type: <class 'numpy.ndarray'>\n",
            "data dim: 0\n"
          ],
          "name": "stdout"
        }
      ]
    },
    {
      "cell_type": "code",
      "metadata": {
        "colab": {
          "base_uri": "https://localhost:8080/"
        },
        "id": "bw3H-U8NB4x8",
        "outputId": "643e4524-11fd-4ece-bd33-acc066e97011"
      },
      "source": [
        "raw_data"
      ],
      "execution_count": null,
      "outputs": [
        {
          "output_type": "execute_result",
          "data": {
            "text/plain": [
              "array({'resistant': array([False, False, False, ...,  True,  True, False]), 'genes': array(['ATGCACTACCGTATGATCCCCCTTCACTGGATGATGGAAATTGACTGCAATGGCTGCGCTAATAATACTTTGTCTCGTCGTTGGAATTACGACTTCTGGCACAAACACGTTGAACAGGTTAAATGCTACCGTCACAATATTCGTGACCAGACTTGA',\n",
              "       'ATGCACTACCGTATGATTCACTGGATGATGGAAATTGACTGCAATGGCTGCGCTAATAATACTTTGTCTCGTCGTTGGAATTACGACTTCTGGCACAAACCCGTTGAACAGGTTAAATGCTACCGTCACAATATTCGTGACCAGACTTGA',\n",
              "       'ATGCACTACCGTATGATTCACTGGATCGTGATGGAAATTGACTGCAATGGCTGCGCTAATAATACTTTGTCTCGTCGTTGGAATTACGACTTCTGGCACAAACACGTTGAACAGGTTAAATGCTACCGTCACAATATTCGTGACCAGACTTGA',\n",
              "       ...,\n",
              "       'ATGCACTACCGTATGATTCACTGGATGATGGAAACTGCAATGGCTGCGCTAATAATACTTTGTCTCGTCGTTGGAATTACGACTTCTGGCACAAACACGTTGAACAGGTTAAATGCTACCGTCACAATATTCGTGACCAGACTTGA',\n",
              "       'ATGCACTACCGTATGATTCACTGGATGATGGAAATTGACTTGCAATGGCTGCGCTAATAATACTTTGTCTCGTCGTTGGAATTACGACTTCTGGCACAAACACGTTGAACAGGTTAAATGCTACCGTCACAATATTCGTGACCAGACTTGA',\n",
              "       'ATGCACTACCGTATGATTCACTGGATGATGGAAATTGACTGCAATGGCTGCGCTAATAATACTTTGTCTCGTCGTTGGAATTACGACTTCTGGCACAAACACGTTGAACAGGTTAAATGCTACCGTCACAATATTCGTGACCAGACTTGA'],\n",
              "      dtype=object)}, dtype=object)"
            ]
          },
          "metadata": {
            "tags": []
          },
          "execution_count": 5
        }
      ]
    },
    {
      "cell_type": "code",
      "metadata": {
        "id": "ifl823Z0CCEN"
      },
      "source": [
        "data_dict = raw_data[()]"
      ],
      "execution_count": null,
      "outputs": []
    },
    {
      "cell_type": "code",
      "metadata": {
        "colab": {
          "base_uri": "https://localhost:8080/"
        },
        "id": "xNfnZPDoCvOH",
        "outputId": "d0042a3c-eded-48a5-df25-f62783f91e9b"
      },
      "source": [
        "data_dict"
      ],
      "execution_count": null,
      "outputs": [
        {
          "output_type": "execute_result",
          "data": {
            "text/plain": [
              "{'genes': array(['ATGCACTACCGTATGATCCCCCTTCACTGGATGATGGAAATTGACTGCAATGGCTGCGCTAATAATACTTTGTCTCGTCGTTGGAATTACGACTTCTGGCACAAACACGTTGAACAGGTTAAATGCTACCGTCACAATATTCGTGACCAGACTTGA',\n",
              "        'ATGCACTACCGTATGATTCACTGGATGATGGAAATTGACTGCAATGGCTGCGCTAATAATACTTTGTCTCGTCGTTGGAATTACGACTTCTGGCACAAACCCGTTGAACAGGTTAAATGCTACCGTCACAATATTCGTGACCAGACTTGA',\n",
              "        'ATGCACTACCGTATGATTCACTGGATCGTGATGGAAATTGACTGCAATGGCTGCGCTAATAATACTTTGTCTCGTCGTTGGAATTACGACTTCTGGCACAAACACGTTGAACAGGTTAAATGCTACCGTCACAATATTCGTGACCAGACTTGA',\n",
              "        ...,\n",
              "        'ATGCACTACCGTATGATTCACTGGATGATGGAAACTGCAATGGCTGCGCTAATAATACTTTGTCTCGTCGTTGGAATTACGACTTCTGGCACAAACACGTTGAACAGGTTAAATGCTACCGTCACAATATTCGTGACCAGACTTGA',\n",
              "        'ATGCACTACCGTATGATTCACTGGATGATGGAAATTGACTTGCAATGGCTGCGCTAATAATACTTTGTCTCGTCGTTGGAATTACGACTTCTGGCACAAACACGTTGAACAGGTTAAATGCTACCGTCACAATATTCGTGACCAGACTTGA',\n",
              "        'ATGCACTACCGTATGATTCACTGGATGATGGAAATTGACTGCAATGGCTGCGCTAATAATACTTTGTCTCGTCGTTGGAATTACGACTTCTGGCACAAACACGTTGAACAGGTTAAATGCTACCGTCACAATATTCGTGACCAGACTTGA'],\n",
              "       dtype=object),\n",
              " 'resistant': array([False, False, False, ...,  True,  True, False])}"
            ]
          },
          "metadata": {
            "tags": []
          },
          "execution_count": 7
        }
      ]
    },
    {
      "cell_type": "code",
      "metadata": {
        "colab": {
          "base_uri": "https://localhost:8080/",
          "height": 204
        },
        "id": "i1a1Qa5lDTTU",
        "outputId": "c1277512-64f2-42de-d41c-8424fa28331e"
      },
      "source": [
        "df = pd.DataFrame.from_dict(data_dict)\n",
        "df.genes = df.apply(lambda d: d.genes.lower(), axis = 1) #lowercase genes seqs\n",
        "df.head()"
      ],
      "execution_count": null,
      "outputs": [
        {
          "output_type": "execute_result",
          "data": {
            "text/html": [
              "<div>\n",
              "<style scoped>\n",
              "    .dataframe tbody tr th:only-of-type {\n",
              "        vertical-align: middle;\n",
              "    }\n",
              "\n",
              "    .dataframe tbody tr th {\n",
              "        vertical-align: top;\n",
              "    }\n",
              "\n",
              "    .dataframe thead th {\n",
              "        text-align: right;\n",
              "    }\n",
              "</style>\n",
              "<table border=\"1\" class=\"dataframe\">\n",
              "  <thead>\n",
              "    <tr style=\"text-align: right;\">\n",
              "      <th></th>\n",
              "      <th>resistant</th>\n",
              "      <th>genes</th>\n",
              "    </tr>\n",
              "  </thead>\n",
              "  <tbody>\n",
              "    <tr>\n",
              "      <th>0</th>\n",
              "      <td>False</td>\n",
              "      <td>atgcactaccgtatgatcccccttcactggatgatggaaattgact...</td>\n",
              "    </tr>\n",
              "    <tr>\n",
              "      <th>1</th>\n",
              "      <td>False</td>\n",
              "      <td>atgcactaccgtatgattcactggatgatggaaattgactgcaatg...</td>\n",
              "    </tr>\n",
              "    <tr>\n",
              "      <th>2</th>\n",
              "      <td>False</td>\n",
              "      <td>atgcactaccgtatgattcactggatcgtgatggaaattgactgca...</td>\n",
              "    </tr>\n",
              "    <tr>\n",
              "      <th>3</th>\n",
              "      <td>False</td>\n",
              "      <td>atgcactaccgtatgattcactgggtgatggaaattgactgcaatg...</td>\n",
              "    </tr>\n",
              "    <tr>\n",
              "      <th>4</th>\n",
              "      <td>False</td>\n",
              "      <td>atgcacgaccgtatcattcactggatgatggaaattgactgcaatg...</td>\n",
              "    </tr>\n",
              "  </tbody>\n",
              "</table>\n",
              "</div>"
            ],
            "text/plain": [
              "   resistant                                              genes\n",
              "0      False  atgcactaccgtatgatcccccttcactggatgatggaaattgact...\n",
              "1      False  atgcactaccgtatgattcactggatgatggaaattgactgcaatg...\n",
              "2      False  atgcactaccgtatgattcactggatcgtgatggaaattgactgca...\n",
              "3      False  atgcactaccgtatgattcactgggtgatggaaattgactgcaatg...\n",
              "4      False  atgcacgaccgtatcattcactggatgatggaaattgactgcaatg..."
            ]
          },
          "metadata": {
            "tags": []
          },
          "execution_count": 41
        }
      ]
    },
    {
      "cell_type": "code",
      "metadata": {
        "colab": {
          "base_uri": "https://localhost:8080/"
        },
        "id": "lhi6xLoBDf3o",
        "outputId": "e312c77a-bfab-48e3-f1e7-e89f9795c001"
      },
      "source": [
        "df.info()"
      ],
      "execution_count": null,
      "outputs": [
        {
          "output_type": "stream",
          "text": [
            "<class 'pandas.core.frame.DataFrame'>\n",
            "RangeIndex: 100000 entries, 0 to 99999\n",
            "Data columns (total 2 columns):\n",
            " #   Column     Non-Null Count   Dtype \n",
            "---  ------     --------------   ----- \n",
            " 0   resistant  100000 non-null  bool  \n",
            " 1   genes      100000 non-null  object\n",
            "dtypes: bool(1), object(1)\n",
            "memory usage: 879.0+ KB\n"
          ],
          "name": "stdout"
        }
      ]
    },
    {
      "cell_type": "code",
      "metadata": {
        "colab": {
          "base_uri": "https://localhost:8080/"
        },
        "id": "l7FPIxoWDr0a",
        "outputId": "66e35e92-1c56-47f3-d701-759148675936"
      },
      "source": [
        "# No missing values\n",
        "df.isna().sum()"
      ],
      "execution_count": null,
      "outputs": [
        {
          "output_type": "execute_result",
          "data": {
            "text/plain": [
              "resistant    0\n",
              "genes        0\n",
              "dtype: int64"
            ]
          },
          "metadata": {
            "tags": []
          },
          "execution_count": 43
        }
      ]
    },
    {
      "cell_type": "code",
      "metadata": {
        "colab": {
          "base_uri": "https://localhost:8080/",
          "height": 295
        },
        "id": "mOGZwdDNDw1V",
        "outputId": "cd8da3da-1e11-4849-d3b0-89ae72b13d8f"
      },
      "source": [
        "# Target variable is well balanced\n",
        "ax = sns.countplot(x = df.resistant);\n",
        "ax.set_title('Target variable countplot');"
      ],
      "execution_count": null,
      "outputs": [
        {
          "output_type": "display_data",
          "data": {
            "image/png": "[encoded data removed]",
            "text/plain": [
              "<Figure size 432x288 with 1 Axes>"
            ]
          },
          "metadata": {
            "tags": []
          }
        }
      ]
    },
    {
      "cell_type": "code",
      "metadata": {
        "colab": {
          "base_uri": "https://localhost:8080/",
          "height": 369
        },
        "id": "GfJdCy3REZU-",
        "outputId": "fb11c5f0-d659-499b-c377-57570c5a6f0e"
      },
      "source": [
        "len_array = [len(seq) for seq in df.genes]\n",
        "sns.displot(len_array);"
      ],
      "execution_count": null,
      "outputs": [
        {
          "output_type": "display_data",
          "data": {
            "image/png": "[encoded data removed]",
            "text/plain": [
              "<Figure size 360x360 with 1 Axes>"
            ]
          },
          "metadata": {
            "tags": []
          }
        }
      ]
    },
    {
      "cell_type": "markdown",
      "metadata": {
        "id": "8OTNxIasHMhw"
      },
      "source": [
        "### Gene seqs to kmers seqs\n",
        "\n",
        "Let's transform our input gene sequence into uniform length numerical vectors."
      ]
    },
    {
      "cell_type": "code",
      "metadata": {
        "id": "7ZgaupgcHL4t"
      },
      "source": [
        "def GetKmers(k, gene):\n",
        "  ost = len(gene) % k \n",
        "  l = len(gene) - ost - k + 1\n",
        "  return [gene[i:i+k] for i in range(l)]"
      ],
      "execution_count": null,
      "outputs": []
    },
    {
      "cell_type": "code",
      "metadata": {
        "id": "ik41KcD2PSOh"
      },
      "source": [
        "# generating k-mers\n",
        "df['k5'] = df.apply(lambda x: GetKmers(k=5, gene=x.genes), axis = 1)"
      ],
      "execution_count": null,
      "outputs": []
    },
    {
      "cell_type": "code",
      "metadata": {
        "colab": {
          "base_uri": "https://localhost:8080/",
          "height": 204
        },
        "id": "cpPU-Iamv6Tg",
        "outputId": "aeec09d1-61f1-4f17-8369-007203902150"
      },
      "source": [
        "df.head()"
      ],
      "execution_count": null,
      "outputs": [
        {
          "output_type": "execute_result",
          "data": {
            "text/html": [
              "<div>\n",
              "<style scoped>\n",
              "    .dataframe tbody tr th:only-of-type {\n",
              "        vertical-align: middle;\n",
              "    }\n",
              "\n",
              "    .dataframe tbody tr th {\n",
              "        vertical-align: top;\n",
              "    }\n",
              "\n",
              "    .dataframe thead th {\n",
              "        text-align: right;\n",
              "    }\n",
              "</style>\n",
              "<table border=\"1\" class=\"dataframe\">\n",
              "  <thead>\n",
              "    <tr style=\"text-align: right;\">\n",
              "      <th></th>\n",
              "      <th>resistant</th>\n",
              "      <th>genes</th>\n",
              "      <th>k5</th>\n",
              "    </tr>\n",
              "  </thead>\n",
              "  <tbody>\n",
              "    <tr>\n",
              "      <th>0</th>\n",
              "      <td>False</td>\n",
              "      <td>atgcactaccgtatgatcccccttcactggatgatggaaattgact...</td>\n",
              "      <td>[atgca, tgcac, gcact, cacta, actac, ctacc, tac...</td>\n",
              "    </tr>\n",
              "    <tr>\n",
              "      <th>1</th>\n",
              "      <td>False</td>\n",
              "      <td>atgcactaccgtatgattcactggatgatggaaattgactgcaatg...</td>\n",
              "      <td>[atgca, tgcac, gcact, cacta, actac, ctacc, tac...</td>\n",
              "    </tr>\n",
              "    <tr>\n",
              "      <th>2</th>\n",
              "      <td>False</td>\n",
              "      <td>atgcactaccgtatgattcactggatcgtgatggaaattgactgca...</td>\n",
              "      <td>[atgca, tgcac, gcact, cacta, actac, ctacc, tac...</td>\n",
              "    </tr>\n",
              "    <tr>\n",
              "      <th>3</th>\n",
              "      <td>False</td>\n",
              "      <td>atgcactaccgtatgattcactgggtgatggaaattgactgcaatg...</td>\n",
              "      <td>[atgca, tgcac, gcact, cacta, actac, ctacc, tac...</td>\n",
              "    </tr>\n",
              "    <tr>\n",
              "      <th>4</th>\n",
              "      <td>False</td>\n",
              "      <td>atgcacgaccgtatcattcactggatgatggaaattgactgcaatg...</td>\n",
              "      <td>[atgca, tgcac, gcacg, cacga, acgac, cgacc, gac...</td>\n",
              "    </tr>\n",
              "  </tbody>\n",
              "</table>\n",
              "</div>"
            ],
            "text/plain": [
              "   resistant  ...                                                 k5\n",
              "0      False  ...  [atgca, tgcac, gcact, cacta, actac, ctacc, tac...\n",
              "1      False  ...  [atgca, tgcac, gcact, cacta, actac, ctacc, tac...\n",
              "2      False  ...  [atgca, tgcac, gcact, cacta, actac, ctacc, tac...\n",
              "3      False  ...  [atgca, tgcac, gcact, cacta, actac, ctacc, tac...\n",
              "4      False  ...  [atgca, tgcac, gcacg, cacga, acgac, cgacc, gac...\n",
              "\n",
              "[5 rows x 3 columns]"
            ]
          },
          "metadata": {
            "tags": []
          },
          "execution_count": 46
        }
      ]
    },
    {
      "cell_type": "code",
      "metadata": {
        "colab": {
          "base_uri": "https://localhost:8080/",
          "height": 265
        },
        "id": "6lk4mx4aNmmp",
        "outputId": "caf350b8-243a-4934-c783-6759ce2fcfcb"
      },
      "source": [
        "len_ = [len(seq) for seq in df.k5]\n",
        "sns.countplot(x = len_);"
      ],
      "execution_count": null,
      "outputs": [
        {
          "output_type": "display_data",
          "data": {
            "image/png": "[encoded data removed]",
            "text/plain": [
              "<Figure size 432x288 with 1 Axes>"
            ]
          },
          "metadata": {
            "tags": []
          }
        }
      ]
    },
    {
      "cell_type": "code",
      "metadata": {
        "id": "t5hT3U_suICR"
      },
      "source": [
        ""
      ],
      "execution_count": null,
      "outputs": []
    },
    {
      "cell_type": "markdown",
      "metadata": {
        "id": "5B-mZ5nD9R7a"
      },
      "source": [
        "## Data Prep pipeline # 1 \n",
        "\n",
        "- Count Vectorizer\n",
        "- k = 5"
      ]
    },
    {
      "cell_type": "code",
      "metadata": {
        "id": "T4TYWuwd9sPI"
      },
      "source": [
        "def GetKmers(k, gene):\n",
        "  ost = len(gene) % k \n",
        "  l = len(gene) - ost - k + 1\n",
        "  return [gene[i:i+k] for i in range(l)]\n",
        "\n",
        "  "
      ],
      "execution_count": null,
      "outputs": []
    },
    {
      "cell_type": "code",
      "metadata": {
        "colab": {
          "base_uri": "https://localhost:8080/",
          "height": 204
        },
        "id": "TO8cbmQ29XOi",
        "outputId": "26b79538-4c7b-4a69-9676-35e0d10f5b69"
      },
      "source": [
        "data_path = '/content/drive/MyDrive/ColabNotebooks/Antibiotics-resistance/data/dataset.npy'\n",
        "raw_data = np.load(data_path, allow_pickle=True)\n",
        "\n",
        "data_dict = raw_data[()]\n",
        "\n",
        "df = pd.DataFrame.from_dict(data_dict)\n",
        "df.genes = df.apply(lambda d: d.genes.lower(), axis = 1) #lowercase genes seqs\n",
        "df['k5'] = df.apply(lambda x: GetKmers(k=5, gene=x.genes), axis = 1)\n",
        "df.head()"
      ],
      "execution_count": null,
      "outputs": [
        {
          "output_type": "execute_result",
          "data": {
            "text/html": [
              "<div>\n",
              "<style scoped>\n",
              "    .dataframe tbody tr th:only-of-type {\n",
              "        vertical-align: middle;\n",
              "    }\n",
              "\n",
              "    .dataframe tbody tr th {\n",
              "        vertical-align: top;\n",
              "    }\n",
              "\n",
              "    .dataframe thead th {\n",
              "        text-align: right;\n",
              "    }\n",
              "</style>\n",
              "<table border=\"1\" class=\"dataframe\">\n",
              "  <thead>\n",
              "    <tr style=\"text-align: right;\">\n",
              "      <th></th>\n",
              "      <th>resistant</th>\n",
              "      <th>genes</th>\n",
              "      <th>k5</th>\n",
              "    </tr>\n",
              "  </thead>\n",
              "  <tbody>\n",
              "    <tr>\n",
              "      <th>0</th>\n",
              "      <td>False</td>\n",
              "      <td>atgcactaccgtatgatcccccttcactggatgatggaaattgact...</td>\n",
              "      <td>[atgca, tgcac, gcact, cacta, actac, ctacc, tac...</td>\n",
              "    </tr>\n",
              "    <tr>\n",
              "      <th>1</th>\n",
              "      <td>False</td>\n",
              "      <td>atgcactaccgtatgattcactggatgatggaaattgactgcaatg...</td>\n",
              "      <td>[atgca, tgcac, gcact, cacta, actac, ctacc, tac...</td>\n",
              "    </tr>\n",
              "    <tr>\n",
              "      <th>2</th>\n",
              "      <td>False</td>\n",
              "      <td>atgcactaccgtatgattcactggatcgtgatggaaattgactgca...</td>\n",
              "      <td>[atgca, tgcac, gcact, cacta, actac, ctacc, tac...</td>\n",
              "    </tr>\n",
              "    <tr>\n",
              "      <th>3</th>\n",
              "      <td>False</td>\n",
              "      <td>atgcactaccgtatgattcactgggtgatggaaattgactgcaatg...</td>\n",
              "      <td>[atgca, tgcac, gcact, cacta, actac, ctacc, tac...</td>\n",
              "    </tr>\n",
              "    <tr>\n",
              "      <th>4</th>\n",
              "      <td>False</td>\n",
              "      <td>atgcacgaccgtatcattcactggatgatggaaattgactgcaatg...</td>\n",
              "      <td>[atgca, tgcac, gcacg, cacga, acgac, cgacc, gac...</td>\n",
              "    </tr>\n",
              "  </tbody>\n",
              "</table>\n",
              "</div>"
            ],
            "text/plain": [
              "   resistant  ...                                                 k5\n",
              "0      False  ...  [atgca, tgcac, gcact, cacta, actac, ctacc, tac...\n",
              "1      False  ...  [atgca, tgcac, gcact, cacta, actac, ctacc, tac...\n",
              "2      False  ...  [atgca, tgcac, gcact, cacta, actac, ctacc, tac...\n",
              "3      False  ...  [atgca, tgcac, gcact, cacta, actac, ctacc, tac...\n",
              "4      False  ...  [atgca, tgcac, gcacg, cacga, acgac, cgacc, gac...\n",
              "\n",
              "[5 rows x 3 columns]"
            ]
          },
          "metadata": {
            "tags": []
          },
          "execution_count": 4
        }
      ]
    },
    {
      "cell_type": "code",
      "metadata": {
        "id": "ko2VjaNi-YEx"
      },
      "source": [
        "# Count Vectorizer \n",
        "text_corpus = list(df.k5)\n",
        "for i in range(len(text_corpus)):\n",
        "  text_corpus[i] = ' '.join(text_corpus[i])\n",
        "  \n",
        "\n",
        "CntVect = CountVectorizer(analyzer='word')\n",
        "\n",
        "X = CntVect.fit_transform(text_corpus).toarray()\n",
        "y = df.resistant.astype('int')"
      ],
      "execution_count": null,
      "outputs": []
    },
    {
      "cell_type": "code",
      "metadata": {
        "id": "Oe0cUCSgogfq"
      },
      "source": [
        "# Sample validation \n",
        "dd = pd.DataFrame(data = X)\n",
        "dd['target'] = y\n",
        "\n",
        "#Shufle the dataframe\n",
        "dd = dd.sample(frac = 1)\n",
        "\n",
        "#Split the dataframe 0.7, 0.2, 0.1 \n",
        "y_train = tf.convert_to_tensor(dd['target'][:70000])\n",
        "y_test = tf.convert_to_tensor(dd['target'][70000:90000])\n",
        "y_val = tf.convert_to_tensor(dd['target'][90000:])\n",
        "\n",
        "dd.drop('target',axis=1, inplace=True)\n",
        "X_train = tf.convert_to_tensor( dd.iloc[0:70000, :] )\n",
        "X_test = tf.convert_to_tensor(dd.iloc[70000:90000, :])\n",
        "X_val = tf.convert_to_tensor(dd.iloc[90000:, :] )"
      ],
      "execution_count": null,
      "outputs": []
    },
    {
      "cell_type": "code",
      "metadata": {
        "colab": {
          "base_uri": "https://localhost:8080/"
        },
        "id": "J0CjkvUvXDbi",
        "outputId": "c708f5fa-1894-4cb0-a551-8d4bbb45f839"
      },
      "source": [
        "print(X_train.shape, y_train.shape)\n",
        "print(X_test.shape, y_test.shape)"
      ],
      "execution_count": null,
      "outputs": [
        {
          "output_type": "stream",
          "text": [
            "(70000, 1024) (70000,)\n",
            "(20000, 1024) (20000,)\n"
          ],
          "name": "stdout"
        }
      ]
    },
    {
      "cell_type": "code",
      "metadata": {
        "colab": {
          "base_uri": "https://localhost:8080/"
        },
        "id": "o8kAdVMvsTdQ",
        "outputId": "c6dcfba3-32a0-49d6-9f29-8031ba6dd2ce"
      },
      "source": [
        "print(X_test)\n",
        "print(X_train)"
      ],
      "execution_count": null,
      "outputs": [
        {
          "output_type": "stream",
          "text": [
            "tf.Tensor(\n",
            "[[0 0 0 ... 0 0 0]\n",
            " [0 0 0 ... 0 0 0]\n",
            " [0 0 0 ... 0 0 0]\n",
            " ...\n",
            " [0 0 0 ... 0 0 0]\n",
            " [0 0 0 ... 0 0 0]\n",
            " [0 0 0 ... 0 0 0]], shape=(20000, 1024), dtype=int64)\n",
            "tf.Tensor(\n",
            "[[0 0 0 ... 0 0 0]\n",
            " [0 0 0 ... 0 0 0]\n",
            " [0 0 0 ... 0 0 0]\n",
            " ...\n",
            " [0 0 0 ... 0 0 0]\n",
            " [0 0 0 ... 0 0 0]\n",
            " [0 0 0 ... 0 0 0]], shape=(70000, 1024), dtype=int64)\n"
          ],
          "name": "stdout"
        }
      ]
    },
    {
      "cell_type": "code",
      "metadata": {
        "colab": {
          "base_uri": "https://localhost:8080/"
        },
        "id": "D6MAiLOgpdZ3",
        "outputId": "226daeff-3e48-4b67-a980-2c28da2ef0d0"
      },
      "source": [
        "print(y_train)\n",
        "print(y_test)"
      ],
      "execution_count": null,
      "outputs": [
        {
          "output_type": "stream",
          "text": [
            "tf.Tensor([0 0 1 ... 1 0 0], shape=(70000,), dtype=int64)\n",
            "tf.Tensor([0 1 1 ... 1 0 1], shape=(20000,), dtype=int64)\n"
          ],
          "name": "stdout"
        }
      ]
    },
    {
      "cell_type": "markdown",
      "metadata": {
        "id": "bRAogCNKuM15"
      },
      "source": [
        "## Data Prep Function\n"
      ]
    },
    {
      "cell_type": "code",
      "metadata": {
        "id": "-xoh4u3NuLto"
      },
      "source": [
        "def DataPrepCntVct(k):\n",
        "  def GetKmers(k, gene):\n",
        "    ost = len(gene) % k \n",
        "    l = len(gene) - ost - k + 1\n",
        "    return [gene[i:i+k] for i in range(l)]\n",
        "\n",
        "  \n",
        "  data_path = '/content/drive/MyDrive/ColabNotebooks/Antibiotics-resistance/data/dataset.npy'\n",
        "  raw_data = np.load(data_path, allow_pickle=True)\n",
        "  data_dict = raw_data[()]\n",
        "\n",
        "  df = pd.DataFrame.from_dict(data_dict)\n",
        "  df.genes = df.apply(lambda d: d.genes.lower(), axis = 1) #lowercase genes seqs\n",
        "  df['kmers'] = df.apply(lambda x: GetKmers(k=k, gene=x.genes), axis = 1)\n",
        "\n",
        "  # Count Vectorizer \n",
        "  text_corpus = list(df.kmers)\n",
        "  for i in range(len(text_corpus)):\n",
        "    text_corpus[i] = ' '.join(text_corpus[i])\n",
        "    \n",
        "\n",
        "  CntVect = CountVectorizer(analyzer='word')\n",
        "\n",
        "  X = CntVect.fit_transform(text_corpus).toarray()\n",
        "  y = df.resistant.astype('int')\n",
        "  if np.max(X)<128 and np.min(X)>-128:\n",
        "    X = X.astype('int8')\n",
        "    y = y.astype('int8')\n",
        "\n",
        "  return X, y"
      ],
      "execution_count": 8,
      "outputs": []
    },
    {
      "cell_type": "markdown",
      "metadata": {
        "id": "cTfTBl2IGme4"
      },
      "source": [
        "## Model 1: Baseline"
      ]
    },
    {
      "cell_type": "code",
      "metadata": {
        "colab": {
          "base_uri": "https://localhost:8080/"
        },
        "id": "kgS_Vkw1tDg9",
        "outputId": "af0f232e-c413-4ae9-9f8f-4a1be6addd21"
      },
      "source": [
        "print(len(CntVect.vocabulary_))"
      ],
      "execution_count": null,
      "outputs": [
        {
          "output_type": "stream",
          "text": [
            "1024\n"
          ],
          "name": "stdout"
        }
      ]
    },
    {
      "cell_type": "code",
      "metadata": {
        "colab": {
          "base_uri": "https://localhost:8080/"
        },
        "id": "XvlhLefuEiG4",
        "outputId": "fd40c7c6-dbef-4b8c-b1b3-ca436cbeb932"
      },
      "source": [
        "# TF model \n",
        "model = keras.Sequential()\n",
        "model.add(layers.Embedding(input_dim=len(CntVect.vocabulary_), output_dim=64))\n",
        "model.add(layers.LSTM(128))\n",
        "model.add(layers.Dense(1))\n",
        "model.summary()"
      ],
      "execution_count": null,
      "outputs": [
        {
          "output_type": "stream",
          "text": [
            "Model: \"sequential_2\"\n",
            "_________________________________________________________________\n",
            "Layer (type)                 Output Shape              Param #   \n",
            "=================================================================\n",
            "embedding_2 (Embedding)      (None, None, 64)          65536     \n",
            "_________________________________________________________________\n",
            "lstm_2 (LSTM)                (None, 128)               98816     \n",
            "_________________________________________________________________\n",
            "dense_2 (Dense)              (None, 1)                 129       \n",
            "=================================================================\n",
            "Total params: 164,481\n",
            "Trainable params: 164,481\n",
            "Non-trainable params: 0\n",
            "_________________________________________________________________\n"
          ],
          "name": "stdout"
        }
      ]
    },
    {
      "cell_type": "code",
      "metadata": {
        "id": "aeGiyNFTUpIq"
      },
      "source": [
        "model.compile(\n",
        "    optimizer=keras.optimizers.Adam(),  \n",
        "    loss = lambda y_true, y_pred: tf.keras.losses.binary_crossentropy(\n",
        "    y_true, y_pred, from_logits=True),\n",
        "    metrics=[keras.metrics.SparseCategoricalAccuracy()]\n",
        ")"
      ],
      "execution_count": null,
      "outputs": []
    },
    {
      "cell_type": "code",
      "metadata": {
        "colab": {
          "base_uri": "https://localhost:8080/",
          "height": 1000
        },
        "id": "_7ZfDnSZYRwB",
        "outputId": "8bbe14d7-ed91-4371-8e63-2dda85cbeed5"
      },
      "source": [
        "! rm -rf ./logs/\n",
        "\n",
        "tf.random.set_seed(999)\n",
        "num_epochs = 20\n",
        "\n",
        "logdir = os.path.join(\"logs\", datetime.datetime.now().strftime(\"%Y%m%d-%H%M%S\"))\n",
        "tensorboard_callback = tf.keras.callbacks.TensorBoard(logdir, histogram_freq=1)\n",
        "\n",
        "%tensorboard --logdir /content/logs \n",
        "\n",
        "history = model.fit(\n",
        "    X_train,\n",
        "    y_train,\n",
        "    batch_size=64,\n",
        "    epochs=num_epochs,\n",
        "    validation_data=(X_val, y_val),\n",
        "    callbacks = [tensorboard_callback]\n",
        ")"
      ],
      "execution_count": null,
      "outputs": [
        {
          "output_type": "display_data",
          "data": {
            "text/plain": [
              "Reusing TensorBoard on port 6006 (pid 1416), started 4:28:40 ago. (Use '!kill 1416' to kill it.)"
            ]
          },
          "metadata": {
            "tags": []
          }
        },
        {
          "output_type": "display_data",
          "data": {
            "application/javascript": [
              "\n",
              "        (async () => {\n",
              "            const url = new URL(await google.colab.kernel.proxyPort(6006, {'cache': true}));\n",
              "            url.searchParams.set('tensorboardColab', 'true');\n",
              "            const iframe = document.createElement('iframe');\n",
              "            iframe.src = url;\n",
              "            iframe.setAttribute('width', '100%');\n",
              "            iframe.setAttribute('height', '800');\n",
              "            iframe.setAttribute('frameborder', 0);\n",
              "            document.body.appendChild(iframe);\n",
              "        })();\n",
              "    "
            ],
            "text/plain": [
              "<IPython.core.display.Javascript object>"
            ]
          },
          "metadata": {
            "tags": []
          }
        },
        {
          "output_type": "stream",
          "text": [
            "Epoch 1/20\n",
            "1094/1094 [==============================] - 78s 70ms/step - loss: 0.6934 - sparse_categorical_accuracy: 0.5035 - val_loss: 0.6928 - val_sparse_categorical_accuracy: 0.5041\n",
            "Epoch 2/20\n",
            "1094/1094 [==============================] - 76s 69ms/step - loss: 0.6922 - sparse_categorical_accuracy: 0.5050 - val_loss: 0.6690 - val_sparse_categorical_accuracy: 0.5041\n",
            "Epoch 3/20\n",
            "1094/1094 [==============================] - 78s 71ms/step - loss: 0.6754 - sparse_categorical_accuracy: 0.5042 - val_loss: 0.6933 - val_sparse_categorical_accuracy: 0.5041\n",
            "Epoch 4/20\n",
            "1094/1094 [==============================] - 78s 71ms/step - loss: 0.6942 - sparse_categorical_accuracy: 0.5030 - val_loss: 0.6939 - val_sparse_categorical_accuracy: 0.5041\n",
            "Epoch 5/20\n",
            "1094/1094 [==============================] - 78s 71ms/step - loss: 0.6939 - sparse_categorical_accuracy: 0.5044 - val_loss: 0.6971 - val_sparse_categorical_accuracy: 0.5041\n",
            "Epoch 6/20\n",
            "1094/1094 [==============================] - 78s 71ms/step - loss: 0.6939 - sparse_categorical_accuracy: 0.5060 - val_loss: 0.6947 - val_sparse_categorical_accuracy: 0.5041\n",
            "Epoch 7/20\n",
            "1094/1094 [==============================] - 77s 70ms/step - loss: 0.6938 - sparse_categorical_accuracy: 0.5070 - val_loss: 0.6930 - val_sparse_categorical_accuracy: 0.5041\n",
            "Epoch 8/20\n",
            "1094/1094 [==============================] - 77s 71ms/step - loss: 0.6935 - sparse_categorical_accuracy: 0.4995 - val_loss: 0.6926 - val_sparse_categorical_accuracy: 0.5041\n",
            "Epoch 9/20\n",
            "1094/1094 [==============================] - 77s 71ms/step - loss: 0.6933 - sparse_categorical_accuracy: 0.5034 - val_loss: 0.6921 - val_sparse_categorical_accuracy: 0.5041\n",
            "Epoch 10/20\n",
            "1094/1094 [==============================] - 79s 73ms/step - loss: 0.6924 - sparse_categorical_accuracy: 0.5060 - val_loss: 0.6915 - val_sparse_categorical_accuracy: 0.5041\n",
            "Epoch 11/20\n",
            "1094/1094 [==============================] - 79s 72ms/step - loss: 0.6916 - sparse_categorical_accuracy: 0.5052 - val_loss: 0.6956 - val_sparse_categorical_accuracy: 0.5041\n",
            "Epoch 12/20\n",
            "1094/1094 [==============================] - 79s 72ms/step - loss: 0.6908 - sparse_categorical_accuracy: 0.5062 - val_loss: 0.6729 - val_sparse_categorical_accuracy: 0.5041\n",
            "Epoch 13/20\n",
            "1094/1094 [==============================] - 79s 72ms/step - loss: 0.6757 - sparse_categorical_accuracy: 0.5004 - val_loss: 0.6584 - val_sparse_categorical_accuracy: 0.5041\n",
            "Epoch 14/20\n",
            "1094/1094 [==============================] - 78s 71ms/step - loss: 0.6790 - sparse_categorical_accuracy: 0.5074 - val_loss: 0.6641 - val_sparse_categorical_accuracy: 0.5041\n",
            "Epoch 15/20\n",
            "1094/1094 [==============================] - 78s 71ms/step - loss: 0.6636 - sparse_categorical_accuracy: 0.5058 - val_loss: 0.6653 - val_sparse_categorical_accuracy: 0.5041\n",
            "Epoch 16/20\n",
            "1094/1094 [==============================] - 78s 71ms/step - loss: 0.6615 - sparse_categorical_accuracy: 0.5048 - val_loss: 0.6739 - val_sparse_categorical_accuracy: 0.5041\n",
            "Epoch 17/20\n",
            "1094/1094 [==============================] - 77s 70ms/step - loss: 0.6636 - sparse_categorical_accuracy: 0.5047 - val_loss: 0.6926 - val_sparse_categorical_accuracy: 0.5041\n",
            "Epoch 18/20\n",
            "1094/1094 [==============================] - 79s 72ms/step - loss: 0.6822 - sparse_categorical_accuracy: 0.5055 - val_loss: 0.6605 - val_sparse_categorical_accuracy: 0.5041\n",
            "Epoch 19/20\n",
            "1094/1094 [==============================] - 78s 71ms/step - loss: 0.6767 - sparse_categorical_accuracy: 0.5024 - val_loss: 0.6902 - val_sparse_categorical_accuracy: 0.5041\n",
            "Epoch 20/20\n",
            "1094/1094 [==============================] - 79s 72ms/step - loss: 0.6724 - sparse_categorical_accuracy: 0.5062 - val_loss: 0.6775 - val_sparse_categorical_accuracy: 0.5041\n"
          ],
          "name": "stdout"
        }
      ]
    },
    {
      "cell_type": "code",
      "metadata": {
        "id": "VEBr6InOpHIO"
      },
      "source": [
        "prediction = model.predict(X_test)"
      ],
      "execution_count": null,
      "outputs": []
    },
    {
      "cell_type": "code",
      "metadata": {
        "id": "IEsuGhFdpPYE"
      },
      "source": [
        "round_prediction = [0 if x < 0.5 else 1 for x in prediction]"
      ],
      "execution_count": null,
      "outputs": []
    },
    {
      "cell_type": "code",
      "metadata": {
        "colab": {
          "base_uri": "https://localhost:8080/",
          "height": 265
        },
        "id": "QwMAFjg9x0d1",
        "outputId": "695f657c-8a1a-4252-ff9e-b05c32631133"
      },
      "source": [
        "sns.histplot(round_prediction);"
      ],
      "execution_count": null,
      "outputs": [
        {
          "output_type": "display_data",
          "data": {
            "image/png": "[encoded data removed]",
            "text/plain": [
              "<Figure size 432x288 with 1 Axes>"
            ]
          },
          "metadata": {
            "tags": [],
            "needs_background": "light"
          }
        }
      ]
    },
    {
      "cell_type": "code",
      "metadata": {
        "colab": {
          "base_uri": "https://localhost:8080/"
        },
        "id": "t5FgxQxGrtOo",
        "outputId": "5c3888e0-9b40-4fe9-8177-b6482bb44015"
      },
      "source": [
        "accuracy_score(y_test.numpy(), round_prediction)"
      ],
      "execution_count": null,
      "outputs": [
        {
          "output_type": "execute_result",
          "data": {
            "text/plain": [
              "0.4966"
            ]
          },
          "metadata": {
            "tags": []
          },
          "execution_count": 111
        }
      ]
    },
    {
      "cell_type": "code",
      "metadata": {
        "colab": {
          "base_uri": "https://localhost:8080/"
        },
        "id": "80mmo0gkv24n",
        "outputId": "5dc708bb-86bd-4618-8878-88e5c980ab01"
      },
      "source": [
        "print(confusion_matrix(y_test.numpy(), round_prediction))"
      ],
      "execution_count": null,
      "outputs": [
        {
          "output_type": "stream",
          "text": [
            "[[ 9932    67]\n",
            " [10001     0]]\n"
          ],
          "name": "stdout"
        }
      ]
    },
    {
      "cell_type": "code",
      "metadata": {
        "id": "bcZj83Jm_wWP"
      },
      "source": [
        "# The model is not performing well"
      ],
      "execution_count": null,
      "outputs": []
    },
    {
      "cell_type": "markdown",
      "metadata": {
        "id": "6jwvcdA0qw8i"
      },
      "source": [
        "## Model 2: MultinomialNB\n"
      ]
    },
    {
      "cell_type": "code",
      "metadata": {
        "id": "2b7G_hbNveF3"
      },
      "source": [
        "def MNB(X,y, alpha):\n",
        "\n",
        "  X_train, X_test, y_train, y_test = train_test_split(X, \n",
        "                                                    y, \n",
        "                                                    test_size = 0.20, \n",
        "                                                    random_state=999)\n",
        "  \n",
        "  \n",
        "  classifier = MultinomialNB(alpha=alpha)\n",
        "  classifier.fit(X_train, y_train)\n",
        "  \n",
        "  prediction = classifier.predict(X_test)\n",
        "\n",
        "  return accuracy_score(y_test, prediction)"
      ],
      "execution_count": 4,
      "outputs": []
    },
    {
      "cell_type": "code",
      "metadata": {
        "colab": {
          "base_uri": "https://localhost:8080/"
        },
        "id": "Ke1VGlwJ14eI",
        "outputId": "147e7b59-7926-4fbe-8782-391a89d37593"
      },
      "source": [
        "accuracy_ = []\n",
        "for k in range (3,8):\n",
        "  print('k',k)\n",
        "  X, y = DataPrepCntVct(k)\n",
        "  acc = MNB(X,y, 0.1)\n",
        "  print('acc', acc)\n",
        "  accuracy_.append(acc)"
      ],
      "execution_count": 6,
      "outputs": [
        {
          "output_type": "stream",
          "text": [
            "k 3\n",
            "acc 0.62685\n",
            "k 4\n",
            "acc 0.6895\n",
            "k 5\n",
            "acc 0.7212\n",
            "k 6\n",
            "acc 0.803\n",
            "k 7\n",
            "acc 0.8352\n"
          ],
          "name": "stdout"
        }
      ]
    },
    {
      "cell_type": "code",
      "metadata": {
        "colab": {
          "base_uri": "https://localhost:8080/",
          "height": 265
        },
        "id": "va_Nj6N_wTFi",
        "outputId": "62ca37e6-8808-44bf-e10b-0931d4bece75"
      },
      "source": [
        "sns.scatterplot(x = range(3,8), y = accuracy_);"
      ],
      "execution_count": 9,
      "outputs": [
        {
          "output_type": "display_data",
          "data": {
            "image/png": "[encoded data removed]",
            "text/plain": [
              "<Figure size 432x288 with 1 Axes>"
            ]
          },
          "metadata": {
            "tags": [],
            "needs_background": "light"
          }
        }
      ]
    },
    {
      "cell_type": "code",
      "metadata": {
        "id": "1hzwS7eZxMjX"
      },
      "source": [
        "X, y = DataPrepCntVct(k=7)\n",
        "alphaRange = [0.1, 0.2, 0.5, 0.8, 1]\n",
        "accuracy_ = []\n",
        "for alpha in alphaRange:\n",
        "  acc = MNB(X,y, alpha)\n",
        "  accuracy_.append(acc)"
      ],
      "execution_count": 13,
      "outputs": []
    },
    {
      "cell_type": "code",
      "metadata": {
        "colab": {
          "base_uri": "https://localhost:8080/"
        },
        "id": "ZCv9WaC2zLQF",
        "outputId": "7cae11c5-dd45-4f1a-a7d3-a3a03676195e"
      },
      "source": [
        "print(accuracy_)"
      ],
      "execution_count": 14,
      "outputs": [
        {
          "output_type": "stream",
          "text": [
            "[0.8352, 0.83475, 0.834, 0.8331, 0.8322]\n"
          ],
          "name": "stdout"
        }
      ]
    },
    {
      "cell_type": "code",
      "metadata": {
        "colab": {
          "base_uri": "https://localhost:8080/",
          "height": 265
        },
        "id": "Hg6wpeLoyCny",
        "outputId": "7920257b-fa20-45a9-d966-4f6e253afc36"
      },
      "source": [
        "sns.scatterplot(x = alphaRange, y = accuracy_);"
      ],
      "execution_count": 15,
      "outputs": [
        {
          "output_type": "display_data",
          "data": {
            "image/png": "[encoded data removed]",
            "text/plain": [
              "<Figure size 432x288 with 1 Axes>"
            ]
          },
          "metadata": {
            "tags": [],
            "needs_background": "light"
          }
        }
      ]
    },
    {
      "cell_type": "code",
      "metadata": {
        "id": "HVVIfxqezSmO"
      },
      "source": [
        "# alpha = 0.1 for k=7 is an optimal hyperparameter value for 0.8352 accuracy"
      ],
      "execution_count": 18,
      "outputs": []
    },
    {
      "cell_type": "markdown",
      "metadata": {
        "id": "h8XjdsmbwGSl"
      },
      "source": [
        "## Model 3: MultinomialNB with batching for k > 8"
      ]
    },
    {
      "cell_type": "code",
      "metadata": {
        "id": "eMZAl6xh0jmy"
      },
      "source": [
        "X, y = DataPrepCntVct(k=7)"
      ],
      "execution_count": 28,
      "outputs": []
    },
    {
      "cell_type": "code",
      "metadata": {
        "colab": {
          "base_uri": "https://localhost:8080/"
        },
        "id": "DXoY8Xrs1rwd",
        "outputId": "44354d15-b038-417a-cfa1-e0c49fc99661"
      },
      "source": [
        "# Size of my data\n",
        "print('Dataset size', X.size*X.itemsize*10**(-9), 'Gb')\n",
        "print('Dataset size, k=6', X.size*(4**6)*10**(-9), 'Gb')\n",
        "print('Dataset size, k=7', X.size*(4**7)*10**(-9), 'Gb')\n",
        "\n",
        "print('Dataset sample size', X.itemsize*(4**7), 'bytes')"
      ],
      "execution_count": 29,
      "outputs": [
        {
          "output_type": "stream",
          "text": [
            "Dataset size 1.5328000000000002 Gb\n",
            "Dataset size, k=6 6278.348800000001 Gb\n",
            "Dataset size, k=7 25113.395200000003 Gb\n",
            "Dataset sample size 16384 bytes\n"
          ],
          "name": "stdout"
        }
      ]
    },
    {
      "cell_type": "code",
      "metadata": {
        "colab": {
          "base_uri": "https://localhost:8080/"
        },
        "id": "HWJ2DwzS0mDP",
        "outputId": "4275d5f0-b6df-4b79-93d2-56dac55dc9d9"
      },
      "source": [
        "# Size of my data\n",
        "print('Dataset size', X.size*X.itemsize*10**(-9), 'Gb')\n",
        "print('Dataset size, k=6', X.size*(4**6)*10**(-9), 'Gb')\n",
        "print('Dataset size, k=7', X.size*(4**7)*10**(-9), 'Gb')\n",
        "\n",
        "print('Dataset sample size', X.itemsize*(4**7), 'bytes')"
      ],
      "execution_count": 20,
      "outputs": [
        {
          "output_type": "stream",
          "text": [
            "Dataset size 12.262400000000001 Gb\n",
            "Dataset size, k=6 6278.348800000001 Gb\n",
            "Dataset size, k=7 25113.395200000003 Gb\n",
            "Dataset sample size 131072 bytes\n"
          ],
          "name": "stdout"
        }
      ]
    },
    {
      "cell_type": "code",
      "metadata": {
        "colab": {
          "base_uri": "https://localhost:8080/"
        },
        "id": "SnvLfs070nMo",
        "outputId": "e47f4515-0d66-4ffd-e852-befbe2b5edd2"
      },
      "source": [
        "np.max(X), np.min(X)"
      ],
      "execution_count": 21,
      "outputs": [
        {
          "output_type": "execute_result",
          "data": {
            "text/plain": [
              "(3, 0)"
            ]
          },
          "metadata": {
            "tags": []
          },
          "execution_count": 21
        }
      ]
    },
    {
      "cell_type": "code",
      "metadata": {
        "id": "noNaErA1utKR"
      },
      "source": [
        "def MNB-batching(X,y):\n",
        "\n",
        "  X_train, X_test, y_train, y_test = train_test_split(X, \n",
        "                                                    y, \n",
        "                                                    test_size = 0.20, \n",
        "                                                    random_state=999)\n",
        "  \n",
        "  \n",
        "  \n",
        "  print(X_train.shape, y_train.shape)\n",
        "  print(X_test.shape, y_test.shape)\n",
        "\n",
        "  classifier = MultinomialNB(alpha=0.1)\n",
        "\n",
        "  n = 1\n",
        "\n",
        "  for i in range(0,1):\n",
        "    #\n",
        "    print(i)\n",
        "    print(X_train[i * n : (i+1)*n ,:].shape, y_train[i*n: (i+1)*n].shape)\n",
        "    classifier.fit(X_train[i * n : (i+1)*n ,:], y_train[i*n: (i+1)*n]) #, classes = (0,1))\n",
        "\n",
        "  # for i in range(0,0):\n",
        "  #   #classifier.fit(X_train, y_train)\n",
        "  #   classifier.fit(X_train[i * n : (i+1)*n ,:], y_train[i*n: (i+1)*n], classes = (0,1))\n",
        "\n",
        "\n",
        "  prediction = classifier.predict(X_test)\n",
        "\n",
        "  return accuracy_score(y_test, prediction)"
      ],
      "execution_count": 4,
      "outputs": []
    },
    {
      "cell_type": "code",
      "metadata": {
        "id": "swl4useVDvwj"
      },
      "source": [
        "X, y = DataPrepCntVct(k=7)"
      ],
      "execution_count": 5,
      "outputs": []
    },
    {
      "cell_type": "code",
      "metadata": {
        "colab": {
          "base_uri": "https://localhost:8080/"
        },
        "id": "-ZwqOMb5Ntn3",
        "outputId": "8ca15f8f-d468-4257-d3cc-ddb88edb63c9"
      },
      "source": [
        "# Size of my data\n",
        "print('Dataset size', X.size*X.itemsize*10**(-9), 'Gb')\n",
        "print('Dataset size, k=6', X.size*(4**6)*10**(-9), 'Gb')\n",
        "print('Dataset size, k=7', X.size*(4**7)*10**(-9), 'Gb')\n",
        "\n",
        "print('Dataset sample size', X.itemsize*(4**7), 'bytes')"
      ],
      "execution_count": 28,
      "outputs": [
        {
          "output_type": "stream",
          "text": [
            "Dataset size 12.262400000000001 Gb\n",
            "Dataset size, k=6 6278.348800000001 Gb\n",
            "Dataset size, k=7 25113.395200000003 Gb\n",
            "Dataset sample size 131072 bytes\n"
          ],
          "name": "stdout"
        }
      ]
    },
    {
      "cell_type": "code",
      "metadata": {
        "colab": {
          "base_uri": "https://localhost:8080/"
        },
        "id": "cb7qBNbK9AvI",
        "outputId": "946613d1-6724-488b-f5da-865a7f1dbe79"
      },
      "source": [
        "xsh=[]\n",
        "for i in range(4,9):\n",
        "  X, y = DataPrepCntVct(k=i)\n",
        "  print(i, ':', X.shape)\n",
        "  xsh.append(X.shape[1])"
      ],
      "execution_count": null,
      "outputs": [
        {
          "output_type": "stream",
          "text": [
            "4 : (100000, 256)\n",
            "5 : (100000, 1024)\n",
            "6 : (100000, 4096)\n",
            "7 : (100000, 15328)\n"
          ],
          "name": "stdout"
        }
      ]
    },
    {
      "cell_type": "markdown",
      "metadata": {
        "id": "Xt0BivOrgKbI"
      },
      "source": [
        "## Model 4: deeper network "
      ]
    },
    {
      "cell_type": "code",
      "metadata": {
        "id": "ZhpaJcUuSqEj"
      },
      "source": [
        "# TF model \n",
        "model2 = keras.Sequential()\n",
        "model2.add(layers.Embedding(input_dim=len(CntVect.vocabulary_), output_dim=64))\n",
        "model2.add(layers.LSTM(128))\n",
        "model2.add(layers.Dense(1))\n",
        "model2.summary()"
      ],
      "execution_count": null,
      "outputs": []
    },
    {
      "cell_type": "code",
      "metadata": {
        "id": "gAL3MGvugbwL"
      },
      "source": [
        "model2.compile(\n",
        "    optimizer=keras.optimizers.Adam(),  \n",
        "    loss = lambda y_true, y_pred: tf.keras.losses.binary_crossentropy(\n",
        "    y_true, y_pred, from_logits=True),\n",
        "    metrics=[keras.metrics.SparseCategoricalAccuracy()]\n",
        ")"
      ],
      "execution_count": null,
      "outputs": []
    },
    {
      "cell_type": "code",
      "metadata": {
        "id": "6eQtxDkHgeJd"
      },
      "source": [
        "! rm -rf ./logs/\n",
        "\n",
        "tf.random.set_seed(999)\n",
        "num_epochs = 20\n",
        "\n",
        "logdir = os.path.join(\"logs\", datetime.datetime.now().strftime(\"%Y%m%d-%H%M%S\"))\n",
        "tensorboard_callback = tf.keras.callbacks.TensorBoard(logdir, histogram_freq=1)\n",
        "\n",
        "%tensorboard --logdir /content/logs \n",
        "\n",
        "history = model.fit(\n",
        "    X_train,\n",
        "    y_train,\n",
        "    batch_size=64,\n",
        "    epochs=num_epochs,\n",
        "    validation_data=(X_val, y_val),\n",
        "    callbacks = [tensorboard_callback]\n",
        ")"
      ],
      "execution_count": null,
      "outputs": []
    }
  ]
}