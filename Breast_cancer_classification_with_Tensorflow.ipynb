{
  "nbformat": 4,
  "nbformat_minor": 0,
  "metadata": {
    "colab": {
      "name": "Breast cancer classification with Tensorflow.ipynb",
      "provenance": [],
      "collapsed_sections": [],
      "toc_visible": true,
      "machine_shape": "hm",
      "authorship_tag": "ABX9TyMvz8JFJpnYKU4KLqmEaHCK",
      "include_colab_link": true
    },
    "kernelspec": {
      "name": "python3",
      "display_name": "Python 3"
    },
    "language_info": {
      "name": "python"
    },
    "accelerator": "GPU"
  },
  "cells": [
    {
      "cell_type": "markdown",
      "metadata": {
        "id": "view-in-github",
        "colab_type": "text"
      },
      "source": [
        "<a href=\"https://colab.research.google.com/github/tlysenko/ML-notebooks/blob/master/Breast_cancer_classification_with_Tensorflow.ipynb\" target=\"_parent\"><img src=\"https://colab.research.google.com/assets/colab-badge.svg\" alt=\"Open In Colab\"/></a>"
      ]
    },
    {
      "cell_type": "markdown",
      "metadata": {
        "id": "D65bVBJkUSpq"
      },
      "source": [
        "### Importing the libraries"
      ]
    },
    {
      "cell_type": "code",
      "metadata": {
        "id": "For-OY-NMDdG"
      },
      "source": [
        "from sklearn.datasets import load_breast_cancer\n",
        "from sklearn.model_selection import train_test_split\n",
        "from sklearn.metrics import confusion_matrix\n",
        "\n",
        "from sklearn.preprocessing import StandardScaler\n",
        "\n",
        "\n",
        "import tensorflow as tf\n",
        "\n",
        "import numpy as np\n",
        "\n",
        "import matplotlib.pyplot as plt\n",
        "import seaborn as sns"
      ],
      "execution_count": null,
      "outputs": []
    },
    {
      "cell_type": "markdown",
      "metadata": {
        "id": "luDraT76UVDR"
      },
      "source": [
        "### Load and split the data"
      ]
    },
    {
      "cell_type": "code",
      "metadata": {
        "id": "r8DfBTu4NC24"
      },
      "source": [
        "data = load_breast_cancer()"
      ],
      "execution_count": null,
      "outputs": []
    },
    {
      "cell_type": "code",
      "metadata": {
        "colab": {
          "base_uri": "https://localhost:8080/"
        },
        "id": "Fe_gZetONFJW",
        "outputId": "a3e27b70-cfb2-4448-e301-7a885b6f35ce"
      },
      "source": [
        "y = data['target']\n",
        "X = data['data']\n",
        "\n",
        "print(y.shape, X.shape)"
      ],
      "execution_count": null,
      "outputs": [
        {
          "output_type": "stream",
          "name": "stdout",
          "text": [
            "(569,) (569, 30)\n"
          ]
        }
      ]
    },
    {
      "cell_type": "markdown",
      "metadata": {
        "id": "F5h7rrSiVzww"
      },
      "source": [
        "#### Target variable distribution\n"
      ]
    },
    {
      "cell_type": "code",
      "metadata": {
        "colab": {
          "base_uri": "https://localhost:8080/",
          "height": 279
        },
        "id": "PqyAGYHvU5wD",
        "outputId": "5d50e2d2-ced5-4e6d-d0b2-1c307e2d624c"
      },
      "source": [
        "ax = sns.countplot(x = y);\n",
        "ax.set(xlabel='target variable', ylabel='count');"
      ],
      "execution_count": null,
      "outputs": [
        {
          "output_type": "display_data",
          "data": {
            "image/png": "[encoded data removed]",
            "text/plain": [
              "<Figure size 432x288 with 1 Axes>"
            ]
          },
          "metadata": {
            "needs_background": "light"
          }
        }
      ]
    },
    {
      "cell_type": "markdown",
      "metadata": {
        "id": "VssduzYCU7Ot"
      },
      "source": [
        "#### Split the data"
      ]
    },
    {
      "cell_type": "code",
      "metadata": {
        "colab": {
          "base_uri": "https://localhost:8080/"
        },
        "id": "0a31Cp2gNHNf",
        "outputId": "99ca4c06-53fe-45fb-c18f-1eb61b3e5826"
      },
      "source": [
        "X_train, X_test, y_train, y_test = train_test_split(X, y, test_size=0.2, random_state=9999, stratify=y)\n",
        "\n",
        "print(X_train.shape, X_test.shape, y_train.shape, y_test.shape)"
      ],
      "execution_count": null,
      "outputs": [
        {
          "output_type": "stream",
          "name": "stdout",
          "text": [
            "(455, 30) (114, 30) (455,) (114,)\n"
          ]
        }
      ]
    },
    {
      "cell_type": "code",
      "metadata": {
        "colab": {
          "base_uri": "https://localhost:8080/"
        },
        "id": "RSE57lzjNjP8",
        "outputId": "d210fb7c-5db7-400c-f4a2-30b4c9629b15"
      },
      "source": [
        "X_val, X_test, y_val, y_test = train_test_split(X_test, y_test, test_size=0.5, random_state=42, stratify=y_test)\n",
        "\n",
        "print(X_val.shape, X_test.shape, y_val.shape, y_test.shape)"
      ],
      "execution_count": null,
      "outputs": [
        {
          "output_type": "stream",
          "name": "stdout",
          "text": [
            "(57, 30) (57, 30) (57,) (57,)\n"
          ]
        }
      ]
    },
    {
      "cell_type": "code",
      "metadata": {
        "colab": {
          "base_uri": "https://localhost:8080/"
        },
        "id": "tmKA5b3aPG0J",
        "outputId": "42eb8d7a-39ca-44e2-f57a-a7d6a807d804"
      },
      "source": [
        "X_train.shape"
      ],
      "execution_count": null,
      "outputs": [
        {
          "output_type": "execute_result",
          "data": {
            "text/plain": [
              "(455, 30)"
            ]
          },
          "metadata": {},
          "execution_count": 7
        }
      ]
    },
    {
      "cell_type": "code",
      "metadata": {
        "colab": {
          "base_uri": "https://localhost:8080/",
          "height": 265
        },
        "id": "agi5b-QkX5ZF",
        "outputId": "e721fc50-bffe-48c7-886f-eefb3c7a313f"
      },
      "source": [
        "ax = sns.countplot(x = y_test);\n"
      ],
      "execution_count": null,
      "outputs": [
        {
          "output_type": "display_data",
          "data": {
            "image/png": "[encoded data removed]",
            "text/plain": [
              "<Figure size 432x288 with 1 Axes>"
            ]
          },
          "metadata": {
            "needs_background": "light"
          }
        }
      ]
    },
    {
      "cell_type": "code",
      "metadata": {
        "colab": {
          "base_uri": "https://localhost:8080/",
          "height": 265
        },
        "id": "YUWrmK0EX7kW",
        "outputId": "861a847c-6995-4118-bcfd-448741282ce4"
      },
      "source": [
        "ax = sns.countplot(x = y_val);\n"
      ],
      "execution_count": null,
      "outputs": [
        {
          "output_type": "display_data",
          "data": {
            "image/png": "[encoded data removed]",
            "text/plain": [
              "<Figure size 432x288 with 1 Axes>"
            ]
          },
          "metadata": {
            "needs_background": "light"
          }
        }
      ]
    },
    {
      "cell_type": "code",
      "metadata": {
        "colab": {
          "base_uri": "https://localhost:8080/",
          "height": 265
        },
        "id": "-HFqOuSCX-c4",
        "outputId": "04e0c36e-123d-48bc-b38a-a22e4caeeb8c"
      },
      "source": [
        "ax = sns.countplot(x = y_train);\n"
      ],
      "execution_count": null,
      "outputs": [
        {
          "output_type": "display_data",
          "data": {
            "image/png": "[encoded data removed]",
            "text/plain": [
              "<Figure size 432x288 with 1 Axes>"
            ]
          },
          "metadata": {
            "needs_background": "light"
          }
        }
      ]
    },
    {
      "cell_type": "markdown",
      "metadata": {
        "id": "zjLPye9iXe84"
      },
      "source": [
        "##### Scale the data"
      ]
    },
    {
      "cell_type": "code",
      "metadata": {
        "id": "VY4pGd_cXdYo"
      },
      "source": [
        "scaler = StandardScaler()\n",
        "X_train = scaler.fit_transform(X_train)\n",
        "X_test = scaler.transform(X_test)\n",
        "X_val = scaler.transform(X_val)"
      ],
      "execution_count": null,
      "outputs": []
    },
    {
      "cell_type": "markdown",
      "metadata": {
        "id": "EAmO1Kj3UYUf"
      },
      "source": [
        "### Bulding and training the model"
      ]
    },
    {
      "cell_type": "code",
      "metadata": {
        "colab": {
          "base_uri": "https://localhost:8080/"
        },
        "id": "qa_UHEZUYYhY",
        "outputId": "6667f1e5-c3c5-4a54-deaa-6706234a00a6"
      },
      "source": [
        "N, D = X_train.shape \n",
        "print(N,D)"
      ],
      "execution_count": null,
      "outputs": [
        {
          "output_type": "stream",
          "name": "stdout",
          "text": [
            "455 30\n"
          ]
        }
      ]
    },
    {
      "cell_type": "code",
      "metadata": {
        "id": "tp9pdGEbPQsD"
      },
      "source": [
        "model1 = tf.keras.Sequential([\n",
        "                              tf.keras.layers.Input(shape=(D,)),\n",
        "                              tf.keras.layers.Dense(units = 1,\n",
        "                                                    activation='sigmoid')\n",
        "                            ])\n",
        "\n",
        "model1.compile(optimizer='adam',\n",
        "               loss='binary_crossentropy',\n",
        "               metrics = ['accuracy'])"
      ],
      "execution_count": null,
      "outputs": []
    },
    {
      "cell_type": "code",
      "metadata": {
        "id": "G2kN0DGkQk1b"
      },
      "source": [
        "model1.fit(x = X_train,\n",
        "           y = y_train,\n",
        "           epochs = 1000, \n",
        "           verbose = 0,\n",
        "           validation_data = (X_val, y_val),\n",
        "         \n",
        ")"
      ],
      "execution_count": null,
      "outputs": []
    },
    {
      "cell_type": "markdown",
      "metadata": {
        "id": "9Rh85n_vUakV"
      },
      "source": [
        "### Evaluating the model"
      ]
    },
    {
      "cell_type": "code",
      "metadata": {
        "colab": {
          "base_uri": "https://localhost:8080/"
        },
        "id": "UvlxtmjwZisk",
        "outputId": "3dbe0471-5d4e-4f1d-8733-8ae671ee796a"
      },
      "source": [
        "print(\"Train score:\", model1.evaluate(X_train, y_train)) # evaluate returns loss and accuracy"
      ],
      "execution_count": null,
      "outputs": [
        {
          "output_type": "stream",
          "name": "stdout",
          "text": [
            "15/15 [==============================] - 0s 2ms/step - loss: 0.0406 - accuracy: 0.9912\n",
            "Train score: [0.04056718945503235, 0.9912087917327881]\n"
          ]
        }
      ]
    },
    {
      "cell_type": "code",
      "metadata": {
        "colab": {
          "base_uri": "https://localhost:8080/"
        },
        "id": "WEWxYErMSvFl",
        "outputId": "68847473-7c03-4f30-8160-9b0b1b542c51"
      },
      "source": [
        "prediction = model1.predict(X_test)\n",
        "prediction = [np.round(x,0) for x in prediction]\n",
        "\n",
        "confusion_matrix(y_test, prediction)"
      ],
      "execution_count": null,
      "outputs": [
        {
          "output_type": "execute_result",
          "data": {
            "text/plain": [
              "array([[20,  1],\n",
              "       [ 3, 33]])"
            ]
          },
          "metadata": {},
          "execution_count": 32
        }
      ]
    }
  ]
}