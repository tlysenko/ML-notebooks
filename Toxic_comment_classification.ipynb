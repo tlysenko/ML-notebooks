{
  "nbformat": 4,
  "nbformat_minor": 0,
  "metadata": {
    "colab": {
      "name": "Toxic-comment-classification.ipynb",
      "provenance": [],
      "collapsed_sections": [],
      "include_colab_link": true
    },
    "kernelspec": {
      "name": "python3",
      "display_name": "Python 3"
    },
    "accelerator": "GPU"
  },
  "cells": [
    {
      "cell_type": "markdown",
      "metadata": {
        "id": "view-in-github",
        "colab_type": "text"
      },
      "source": [
        "<a href=\"https://colab.research.google.com/github/tlysenko/ML-notebooks/blob/master/Toxic_comment_classification.ipynb\" target=\"_parent\"><img src=\"https://colab.research.google.com/assets/colab-badge.svg\" alt=\"Open In Colab\"/></a>"
      ]
    },
    {
      "cell_type": "markdown",
      "metadata": {
        "id": "uQ-U_EhIh8vr",
        "colab_type": "text"
      },
      "source": [
        "# Toxic comment classification with Tensorflow and data preprocessing with NLTK\n",
        "\n",
        "Dataset: [Kaggle Toxic comment classifidcation challenge](https://www.kaggle.com/c/jigsaw-toxic-comment-classification-challenge) "
      ]
    },
    {
      "cell_type": "markdown",
      "metadata": {
        "id": "abl26Tags6R1",
        "colab_type": "text"
      },
      "source": [
        "#### Installing the **libraries**"
      ]
    },
    {
      "cell_type": "code",
      "metadata": {
        "id": "pemreQNxfQoN",
        "colab_type": "code",
        "outputId": "3f09515a-392d-413e-b59f-13f00841f16b",
        "colab": {
          "base_uri": "https://localhost:8080/",
          "height": 394
        }
      },
      "source": [
        "!pip install tensorflow==2.0.0\n",
        "\n",
        "import tensorflow as tf\n",
        "from tensorflow import keras\n",
        "\n",
        "from tensorflow.keras.preprocessing.text import Tokenizer\n",
        "from tensorflow.keras.preprocessing.sequence import pad_sequences\n",
        "\n",
        "import numpy as np\n",
        "import pandas as pd\n",
        "\n",
        "import nltk\n",
        "\n",
        "import seaborn as sns\n",
        "import matplotlib.pyplot as plt\n"
      ],
      "execution_count": 17,
      "outputs": [
        {
          "output_type": "stream",
          "text": [
            "Requirement already satisfied: tensorflow==2.0.0 in /usr/local/lib/python3.6/dist-packages (2.0.0)\n",
            "Requirement already satisfied: gast==0.2.2 in /usr/local/lib/python3.6/dist-packages (from tensorflow==2.0.0) (0.2.2)\n",
            "Requirement already satisfied: absl-py>=0.7.0 in /usr/local/lib/python3.6/dist-packages (from tensorflow==2.0.0) (0.8.0)\n",
            "Requirement already satisfied: numpy<2.0,>=1.16.0 in /usr/local/lib/python3.6/dist-packages (from tensorflow==2.0.0) (1.16.5)\n",
            "Requirement already satisfied: six>=1.10.0 in /usr/local/lib/python3.6/dist-packages (from tensorflow==2.0.0) (1.12.0)\n",
            "Requirement already satisfied: google-pasta>=0.1.6 in /usr/local/lib/python3.6/dist-packages (from tensorflow==2.0.0) (0.1.7)\n",
            "Requirement already satisfied: astor>=0.6.0 in /usr/local/lib/python3.6/dist-packages (from tensorflow==2.0.0) (0.8.0)\n",
            "Requirement already satisfied: opt-einsum>=2.3.2 in /usr/local/lib/python3.6/dist-packages (from tensorflow==2.0.0) (3.1.0)\n",
            "Requirement already satisfied: protobuf>=3.6.1 in /usr/local/lib/python3.6/dist-packages (from tensorflow==2.0.0) (3.7.1)\n",
            "Requirement already satisfied: keras-preprocessing>=1.0.5 in /usr/local/lib/python3.6/dist-packages (from tensorflow==2.0.0) (1.1.0)\n",
            "Requirement already satisfied: tensorboard<2.1.0,>=2.0.0 in /usr/local/lib/python3.6/dist-packages (from tensorflow==2.0.0) (2.0.0)\n",
            "Requirement already satisfied: wrapt>=1.11.1 in /usr/local/lib/python3.6/dist-packages (from tensorflow==2.0.0) (1.11.2)\n",
            "Requirement already satisfied: grpcio>=1.8.6 in /usr/local/lib/python3.6/dist-packages (from tensorflow==2.0.0) (1.15.0)\n",
            "Requirement already satisfied: termcolor>=1.1.0 in /usr/local/lib/python3.6/dist-packages (from tensorflow==2.0.0) (1.1.0)\n",
            "Requirement already satisfied: tensorflow-estimator<2.1.0,>=2.0.0 in /usr/local/lib/python3.6/dist-packages (from tensorflow==2.0.0) (2.0.0)\n",
            "Requirement already satisfied: keras-applications>=1.0.8 in /usr/local/lib/python3.6/dist-packages (from tensorflow==2.0.0) (1.0.8)\n",
            "Requirement already satisfied: wheel>=0.26 in /usr/local/lib/python3.6/dist-packages (from tensorflow==2.0.0) (0.33.6)\n",
            "Requirement already satisfied: setuptools in /usr/local/lib/python3.6/dist-packages (from protobuf>=3.6.1->tensorflow==2.0.0) (41.2.0)\n",
            "Requirement already satisfied: werkzeug>=0.11.15 in /usr/local/lib/python3.6/dist-packages (from tensorboard<2.1.0,>=2.0.0->tensorflow==2.0.0) (0.16.0)\n",
            "Requirement already satisfied: markdown>=2.6.8 in /usr/local/lib/python3.6/dist-packages (from tensorboard<2.1.0,>=2.0.0->tensorflow==2.0.0) (3.1.1)\n",
            "Requirement already satisfied: h5py in /usr/local/lib/python3.6/dist-packages (from keras-applications>=1.0.8->tensorflow==2.0.0) (2.8.0)\n"
          ],
          "name": "stdout"
        }
      ]
    },
    {
      "cell_type": "markdown",
      "metadata": {
        "id": "KUcyDwUHfinb",
        "colab_type": "text"
      },
      "source": [
        "## Data Exploration"
      ]
    },
    {
      "cell_type": "code",
      "metadata": {
        "id": "5lP3asU9h7gz",
        "colab_type": "code",
        "colab": {}
      },
      "source": [
        "df_train = pd.read_csv('train.csv')\n",
        "df_test = pd.read_csv('test.csv')\n",
        "df_subm = pd.read_csv('sample_submission.csv')"
      ],
      "execution_count": 0,
      "outputs": []
    },
    {
      "cell_type": "code",
      "metadata": {
        "id": "XKpH9i0zo-yK",
        "colab_type": "code",
        "outputId": "3de9a93e-bbf5-408b-b07a-893d86e5dc2f",
        "colab": {
          "base_uri": "https://localhost:8080/",
          "height": 238
        }
      },
      "source": [
        "df_train.info()"
      ],
      "execution_count": 19,
      "outputs": [
        {
          "output_type": "stream",
          "text": [
            "<class 'pandas.core.frame.DataFrame'>\n",
            "RangeIndex: 111699 entries, 0 to 111698\n",
            "Data columns (total 8 columns):\n",
            "id               111699 non-null object\n",
            "comment_text     111699 non-null object\n",
            "toxic            111699 non-null int64\n",
            "severe_toxic     111699 non-null int64\n",
            "obscene          111699 non-null int64\n",
            "threat           111699 non-null int64\n",
            "insult           111699 non-null int64\n",
            "identity_hate    111699 non-null int64\n",
            "dtypes: int64(6), object(2)\n",
            "memory usage: 6.8+ MB\n"
          ],
          "name": "stdout"
        }
      ]
    },
    {
      "cell_type": "markdown",
      "metadata": {
        "id": "tuyXR_Q_Xpnh",
        "colab_type": "text"
      },
      "source": [
        "### Missing data"
      ]
    },
    {
      "cell_type": "code",
      "metadata": {
        "id": "C00DNR-UXksg",
        "colab_type": "code",
        "outputId": "446637dc-dbeb-4326-e8cd-3d0f3ff6a451",
        "colab": {
          "base_uri": "https://localhost:8080/",
          "height": 170
        }
      },
      "source": [
        "df_train.isnull().sum()"
      ],
      "execution_count": 20,
      "outputs": [
        {
          "output_type": "execute_result",
          "data": {
            "text/plain": [
              "id               0\n",
              "comment_text     0\n",
              "toxic            0\n",
              "severe_toxic     0\n",
              "obscene          0\n",
              "threat           0\n",
              "insult           0\n",
              "identity_hate    0\n",
              "dtype: int64"
            ]
          },
          "metadata": {
            "tags": []
          },
          "execution_count": 20
        }
      ]
    },
    {
      "cell_type": "code",
      "metadata": {
        "id": "gs4FiRJnr1LO",
        "colab_type": "code",
        "outputId": "1867c1c4-512f-4f14-c211-2cc31fc9e85b",
        "colab": {
          "base_uri": "https://localhost:8080/",
          "height": 204
        }
      },
      "source": [
        "df_train.head()"
      ],
      "execution_count": 21,
      "outputs": [
        {
          "output_type": "execute_result",
          "data": {
            "text/html": [
              "<div>\n",
              "<style scoped>\n",
              "    .dataframe tbody tr th:only-of-type {\n",
              "        vertical-align: middle;\n",
              "    }\n",
              "\n",
              "    .dataframe tbody tr th {\n",
              "        vertical-align: top;\n",
              "    }\n",
              "\n",
              "    .dataframe thead th {\n",
              "        text-align: right;\n",
              "    }\n",
              "</style>\n",
              "<table border=\"1\" class=\"dataframe\">\n",
              "  <thead>\n",
              "    <tr style=\"text-align: right;\">\n",
              "      <th></th>\n",
              "      <th>id</th>\n",
              "      <th>comment_text</th>\n",
              "      <th>toxic</th>\n",
              "      <th>severe_toxic</th>\n",
              "      <th>obscene</th>\n",
              "      <th>threat</th>\n",
              "      <th>insult</th>\n",
              "      <th>identity_hate</th>\n",
              "    </tr>\n",
              "  </thead>\n",
              "  <tbody>\n",
              "    <tr>\n",
              "      <th>0</th>\n",
              "      <td>4a16050093a99092</td>\n",
              "      <td>No, you have to prove that I can't.</td>\n",
              "      <td>0</td>\n",
              "      <td>0</td>\n",
              "      <td>0</td>\n",
              "      <td>0</td>\n",
              "      <td>0</td>\n",
              "      <td>0</td>\n",
              "    </tr>\n",
              "    <tr>\n",
              "      <th>1</th>\n",
              "      <td>6bc2122dc27e275a</td>\n",
              "      <td>Re: My major edit summaries \\n\\nI have receive...</td>\n",
              "      <td>0</td>\n",
              "      <td>0</td>\n",
              "      <td>0</td>\n",
              "      <td>0</td>\n",
              "      <td>0</td>\n",
              "      <td>0</td>\n",
              "    </tr>\n",
              "    <tr>\n",
              "      <th>2</th>\n",
              "      <td>5570f7207bade92f</td>\n",
              "      <td>I depersonalized it. It's sad how you don't ob...</td>\n",
              "      <td>0</td>\n",
              "      <td>0</td>\n",
              "      <td>0</td>\n",
              "      <td>0</td>\n",
              "      <td>0</td>\n",
              "      <td>0</td>\n",
              "    </tr>\n",
              "    <tr>\n",
              "      <th>3</th>\n",
              "      <td>a17d6408ffb98139</td>\n",
              "      <td>Thats because I was blocked before I could dis...</td>\n",
              "      <td>0</td>\n",
              "      <td>0</td>\n",
              "      <td>0</td>\n",
              "      <td>0</td>\n",
              "      <td>0</td>\n",
              "      <td>0</td>\n",
              "    </tr>\n",
              "    <tr>\n",
              "      <th>4</th>\n",
              "      <td>11b1d25d77ffd834</td>\n",
              "      <td>I apologise for this, I was just angry with ha...</td>\n",
              "      <td>0</td>\n",
              "      <td>0</td>\n",
              "      <td>0</td>\n",
              "      <td>0</td>\n",
              "      <td>0</td>\n",
              "      <td>0</td>\n",
              "    </tr>\n",
              "  </tbody>\n",
              "</table>\n",
              "</div>"
            ],
            "text/plain": [
              "                 id  ... identity_hate\n",
              "0  4a16050093a99092  ...             0\n",
              "1  6bc2122dc27e275a  ...             0\n",
              "2  5570f7207bade92f  ...             0\n",
              "3  a17d6408ffb98139  ...             0\n",
              "4  11b1d25d77ffd834  ...             0\n",
              "\n",
              "[5 rows x 8 columns]"
            ]
          },
          "metadata": {
            "tags": []
          },
          "execution_count": 21
        }
      ]
    },
    {
      "cell_type": "code",
      "metadata": {
        "id": "ILX4MLQsYMb1",
        "colab_type": "code",
        "outputId": "dff2d6f8-8bd0-4822-a6e7-1b035d404190",
        "colab": {
          "base_uri": "https://localhost:8080/",
          "height": 269
        }
      },
      "source": [
        "# Sentence length \n",
        "snt_len = [len(s.split(' ')) for s in df_train['comment_text']]\n",
        "plt.subplot(1,2,1)\n",
        "sns.distplot(snt_len)\n",
        "plt.subplot(1,2,2)\n",
        "sns.boxplot(snt_len);"
      ],
      "execution_count": 22,
      "outputs": [
        {
          "output_type": "display_data",
          "data": {
            "image/png": "[encoded data removed]",
            "text/plain": [
              "<Figure size 432x288 with 2 Axes>"
            ]
          },
          "metadata": {
            "tags": []
          }
        }
      ]
    },
    {
      "cell_type": "markdown",
      "metadata": {
        "id": "HK2WQQWGXunJ",
        "colab_type": "text"
      },
      "source": [
        "#### Discovering the target variable"
      ]
    },
    {
      "cell_type": "code",
      "metadata": {
        "id": "LeXkMnUrEwjQ",
        "colab_type": "code",
        "outputId": "42439863-99b1-42b4-c4ea-3678e1ee43d9",
        "colab": {
          "base_uri": "https://localhost:8080/",
          "height": 283
        }
      },
      "source": [
        "df_train['target'] = [ sum( [row[1]['toxic'], row[1]['severe_toxic'], row[1]['obscene'], row[1]['threat'], \n",
        "                             row[1]['insult'], row[1]['identity_hate']]) for row in df_train.iterrows() ]\n",
        "sns.distplot(df_train['target']);"
      ],
      "execution_count": 23,
      "outputs": [
        {
          "output_type": "display_data",
          "data": {
            "image/png": "[encoded data removed]",
            "text/plain": [
              "<Figure size 432x288 with 1 Axes>"
            ]
          },
          "metadata": {
            "tags": []
          }
        }
      ]
    },
    {
      "cell_type": "markdown",
      "metadata": {
        "id": "-t7KB-sMExaz",
        "colab_type": "text"
      },
      "source": [
        "**There are comments with classified to several categories. That means we're deling with the multilabel classification problem.** "
      ]
    },
    {
      "cell_type": "markdown",
      "metadata": {
        "id": "aFoREmUjsB5Z",
        "colab_type": "text"
      },
      "source": [
        "## Data preparation\n",
        " 1. Lowercase\n",
        " 2. Tokenize and remove numericals\n",
        " 3. Stemming     \n",
        " 4. Removing stop words\n",
        " 5. Rejoin the words"
      ]
    },
    {
      "cell_type": "code",
      "metadata": {
        "id": "tkIDfM0DwvRn",
        "colab_type": "code",
        "colab": {}
      },
      "source": [
        "class DataPrep:\n",
        "  def __init__(self, df):\n",
        "    self.df = df\n",
        "\n",
        "    nltk.download('punkt')  \n",
        "    nltk.download('stopwords')\n",
        "\n",
        "  def get_tokens(self, comment):\n",
        "      tokens = nltk.word_tokenize(comment)\n",
        "      clean_tokens = [s for s in tokens if s.isalpha()]\n",
        "      return clean_tokens\n",
        "\n",
        "  def stem_list(self, my_list):\n",
        "      from nltk.stem.snowball import SnowballStemmer\n",
        "      stemming = SnowballStemmer(\"english\")\n",
        "      stemmed_list = [stemming.stem(word) for word in my_list]\n",
        "      return stemmed_list\n",
        "\n",
        "  def remove_stops(self,my_list):\n",
        "      from nltk.corpus import stopwords\n",
        "      stops = set(stopwords.words(\"english\"))\n",
        "      meaningful_words = [w for w in my_list if not w in stops]\n",
        "      return (meaningful_words)\n",
        "\n",
        "  def rejoin_words(self,my_list):\n",
        "      joined_words = ( \" \".join(my_list))\n",
        "      return joined_words\n",
        "\n",
        "  def pipeline(self):\n",
        "    # 1. Lowercase\n",
        "    self.df['tmp'] = self.df['comment_text'].str.lower()\n",
        "    # 2. Tokenize and remove numericals\n",
        "    self.df['tmp'] = [self.get_tokens(line) for line in self.df['tmp']]\n",
        "    # 3. Stemming     \n",
        "    self.df['tmp'] = [self.stem_list(l) for l in self.df['tmp']]\n",
        "    # 4. Removing stop words\n",
        "    self.df['tmp'] = [self.remove_stops(l) for l in self.df['tmp']]\n",
        "    # 5. Rejoin the words\n",
        "    self.df['processed'] = [self.rejoin_words(l) for l in self.df['tmp']]\n",
        "    self.df.drop('tmp',axis=1, inplace = True)\n"
      ],
      "execution_count": 0,
      "outputs": []
    },
    {
      "cell_type": "code",
      "metadata": {
        "id": "7CHJfC9DxXZv",
        "colab_type": "code",
        "outputId": "522c8edb-3fe5-4074-bdac-27123389f32d",
        "colab": {
          "base_uri": "https://localhost:8080/",
          "height": 85
        }
      },
      "source": [
        "MakeData = DataPrep(df_train)\n",
        "MakeData.pipeline()"
      ],
      "execution_count": 25,
      "outputs": [
        {
          "output_type": "stream",
          "text": [
            "[nltk_data] Downloading package punkt to /root/nltk_data...\n",
            "[nltk_data]   Package punkt is already up-to-date!\n",
            "[nltk_data] Downloading package stopwords to /root/nltk_data...\n",
            "[nltk_data]   Package stopwords is already up-to-date!\n"
          ],
          "name": "stdout"
        }
      ]
    },
    {
      "cell_type": "code",
      "metadata": {
        "id": "4hQiNBuIxaPl",
        "colab_type": "code",
        "outputId": "bf15452f-0fe6-4703-df80-40da48ca1684",
        "colab": {
          "base_uri": "https://localhost:8080/",
          "height": 213
        }
      },
      "source": [
        "df_train.head()[:2]"
      ],
      "execution_count": 26,
      "outputs": [
        {
          "output_type": "execute_result",
          "data": {
            "text/html": [
              "<div>\n",
              "<style scoped>\n",
              "    .dataframe tbody tr th:only-of-type {\n",
              "        vertical-align: middle;\n",
              "    }\n",
              "\n",
              "    .dataframe tbody tr th {\n",
              "        vertical-align: top;\n",
              "    }\n",
              "\n",
              "    .dataframe thead th {\n",
              "        text-align: right;\n",
              "    }\n",
              "</style>\n",
              "<table border=\"1\" class=\"dataframe\">\n",
              "  <thead>\n",
              "    <tr style=\"text-align: right;\">\n",
              "      <th></th>\n",
              "      <th>id</th>\n",
              "      <th>comment_text</th>\n",
              "      <th>toxic</th>\n",
              "      <th>severe_toxic</th>\n",
              "      <th>obscene</th>\n",
              "      <th>threat</th>\n",
              "      <th>insult</th>\n",
              "      <th>identity_hate</th>\n",
              "      <th>target</th>\n",
              "      <th>processed</th>\n",
              "    </tr>\n",
              "  </thead>\n",
              "  <tbody>\n",
              "    <tr>\n",
              "      <th>0</th>\n",
              "      <td>4a16050093a99092</td>\n",
              "      <td>No, you have to prove that I can't.</td>\n",
              "      <td>0</td>\n",
              "      <td>0</td>\n",
              "      <td>0</td>\n",
              "      <td>0</td>\n",
              "      <td>0</td>\n",
              "      <td>0</td>\n",
              "      <td>0</td>\n",
              "      <td>prove ca</td>\n",
              "    </tr>\n",
              "    <tr>\n",
              "      <th>1</th>\n",
              "      <td>6bc2122dc27e275a</td>\n",
              "      <td>Re: My major edit summaries \\n\\nI have receive...</td>\n",
              "      <td>0</td>\n",
              "      <td>0</td>\n",
              "      <td>0</td>\n",
              "      <td>0</td>\n",
              "      <td>0</td>\n",
              "      <td>0</td>\n",
              "      <td>0</td>\n",
              "      <td>major edit summari receiv messag vote candid a...</td>\n",
              "    </tr>\n",
              "  </tbody>\n",
              "</table>\n",
              "</div>"
            ],
            "text/plain": [
              "                 id  ...                                          processed\n",
              "0  4a16050093a99092  ...                                           prove ca\n",
              "1  6bc2122dc27e275a  ...  major edit summari receiv messag vote candid a...\n",
              "\n",
              "[2 rows x 10 columns]"
            ]
          },
          "metadata": {
            "tags": []
          },
          "execution_count": 26
        }
      ]
    },
    {
      "cell_type": "markdown",
      "metadata": {
        "id": "-ddsWH-aSaLs",
        "colab_type": "text"
      },
      "source": [
        "## Data preparaiton for the model"
      ]
    },
    {
      "cell_type": "code",
      "metadata": {
        "id": "QsUww1gASZmK",
        "colab_type": "code",
        "colab": {}
      },
      "source": [
        "# Target variable \n",
        "list_classes = [\"toxic\", \"severe_toxic\", \"obscene\", \"threat\", \"insult\", \"identity_hate\"]\n",
        "y = df_train[list_classes].values\n",
        "\n",
        "# Train data \n",
        "sentences = df_train['processed'].tolist()\n",
        "n = int(len(sentences)*0.8)"
      ],
      "execution_count": 0,
      "outputs": []
    },
    {
      "cell_type": "code",
      "metadata": {
        "id": "wuKdOYZrZCmB",
        "colab_type": "code",
        "colab": {}
      },
      "source": [
        "# Split for train and val\n",
        "trn_snt = sentences[:n]\n",
        "tst_snt = sentences[n:]\n",
        "\n",
        "trn_tgt = y[:n]\n",
        "tst_tgt = y[n:]"
      ],
      "execution_count": 0,
      "outputs": []
    },
    {
      "cell_type": "code",
      "metadata": {
        "id": "q2L14IbYd0Lt",
        "colab_type": "code",
        "colab": {}
      },
      "source": [
        "# Hyper parameters\n",
        "max_features = 20000\n",
        "embedding_dim = 128\n",
        "maxlen = 200"
      ],
      "execution_count": 0,
      "outputs": []
    },
    {
      "cell_type": "code",
      "metadata": {
        "id": "lU4cIeAjZB7c",
        "colab_type": "code",
        "colab": {}
      },
      "source": [
        "tf_tokenizer = Tokenizer(num_words=max_features, oov_token='<OOV>')\n",
        "tf_tokenizer.fit_on_texts(trn_snt)\n",
        "\n",
        "trn_seq = tf_tokenizer.texts_to_sequences(trn_snt)\n",
        "trn_pad = pad_sequences(trn_seq, padding='post',maxlen=maxlen)\n",
        "\n",
        "tst_seq = tf_tokenizer.texts_to_sequences(tst_snt)\n",
        "tst_pad = pad_sequences(tst_seq, padding='post',maxlen=maxlen)"
      ],
      "execution_count": 0,
      "outputs": []
    },
    {
      "cell_type": "markdown",
      "metadata": {
        "id": "TXLZsIuEdZbl",
        "colab_type": "text"
      },
      "source": [
        "## Model 1: Baseline"
      ]
    },
    {
      "cell_type": "code",
      "metadata": {
        "id": "mFNWqjQlyjrY",
        "colab_type": "code",
        "colab": {}
      },
      "source": [
        "def create_model():\n",
        "    return tf.keras.Sequential([\n",
        "                                tf.keras.layers.Embedding(max_features, embedding_dim),\n",
        "                                tf.keras.layers.GlobalAveragePooling1D(),\n",
        "                                tf.keras.layers.Dense(32, activation='relu'),\n",
        "                                tf.keras.layers.Dense(6, activation='sigmoid')\n",
        "    ])"
      ],
      "execution_count": 0,
      "outputs": []
    },
    {
      "cell_type": "code",
      "metadata": {
        "id": "D-LnziqKyQgQ",
        "colab_type": "code",
        "colab": {}
      },
      "source": [
        "import os\n",
        "import datetime\n",
        "def train_model():\n",
        "  \n",
        "  model = create_model()\n",
        "  model.compile(loss='binary_crossentropy',optimizer='adam',metrics=['accuracy'])\n",
        "\n",
        "  logdir = os.path.join(\"logs\", datetime.datetime.now().strftime(\"%Y%m%d-%H%M%S\"))\n",
        "  tensorboard_callback = tf.keras.callbacks.TensorBoard(logdir, histogram_freq=1)\n",
        "\n",
        "  %tensorboard --logdir logs \n",
        "  model.fit(x=trn_pad, \n",
        "                    y=trn_tgt, \n",
        "                    epochs=2, \n",
        "                    validation_data=(tst_pad, tst_tgt),\n",
        "                    callbacks=[tensorboard_callback])\n",
        "  \n",
        "  \n",
        "\n",
        "train_model()"
      ],
      "execution_count": 0,
      "outputs": []
    },
    {
      "cell_type": "code",
      "metadata": {
        "id": "cp4j3OLfcMuo",
        "colab_type": "code",
        "colab": {}
      },
      "source": [
        "model_1_GAP = tf.keras.Sequential([\n",
        "                             tf.keras.layers.Embedding(max_features, embedding_dim),\n",
        "                             tf.keras.layers.GlobalAveragePooling1D(),\n",
        "                             tf.keras.layers.Dense(32, activation='relu'),\n",
        "                             tf.keras.layers.Dense(6, activation='sigmoid')\n",
        "                            ])\n",
        "model_1_GAP.compile(loss='binary_crossentropy',optimizer='adam',metrics=['accuracy'])\n",
        "model_1_GAP.summary()"
      ],
      "execution_count": 0,
      "outputs": []
    },
    {
      "cell_type": "code",
      "metadata": {
        "id": "CDplRiHBguMp",
        "colab_type": "code",
        "colab": {}
      },
      "source": [
        "num_epochs = 2\n",
        "\n",
        "%load_ext tensorboard\n",
        "\n",
        "tensorboard = TensorBoard(log_dir='logs/{}'.format(time.time()), histogram_freq=1)\n",
        "\n",
        "%tensorboard --logdir logs\n",
        "\n",
        "model_1_GAP_history = model_1_GAP.fit(trn_pad, \n",
        "                            trn_tgt, \n",
        "                            epochs=num_epochs, \n",
        "                            validation_data=(tst_pad, tst_tgt),\n",
        "                            callbacks = [tensorboard])\n"
      ],
      "execution_count": 0,
      "outputs": []
    },
    {
      "cell_type": "code",
      "metadata": {
        "id": "rxAhpes7tGqB",
        "colab_type": "code",
        "colab": {}
      },
      "source": [
        "tf.saved_model.save(model_1_GAP, \"/tmp/\")"
      ],
      "execution_count": 0,
      "outputs": []
    },
    {
      "cell_type": "code",
      "metadata": {
        "id": "SKrq1bzD5SFS",
        "colab_type": "code",
        "colab": {}
      },
      "source": [
        "MakeData = DataPrep(df_test)\n",
        "MakeData.pipeline()\n",
        "df_test.head()"
      ],
      "execution_count": 0,
      "outputs": []
    },
    {
      "cell_type": "code",
      "metadata": {
        "id": "iTSqlbnYqYeb",
        "colab_type": "code",
        "colab": {}
      },
      "source": [
        "sentences_test = df_test['processed']\n",
        "\n",
        "trn_test = tf_tokenizer.texts_to_sequences(sentences_test)\n",
        "trn_test_pad = pad_sequences(trn_tes, padding='post',maxlen=maxlen)\n",
        "\n",
        "model_1_GAP.predict(trn_test_pad)"
      ],
      "execution_count": 0,
      "outputs": []
    }
  ]
}